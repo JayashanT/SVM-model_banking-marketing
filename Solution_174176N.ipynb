{
 "cells": [
  {
   "cell_type": "markdown",
   "metadata": {},
   "source": [
    "<h2 style=\"text-align:left\">Thivanka M H J</h2><h2>174176N</h2><br/>"
   ]
  },
  {
   "cell_type": "markdown",
   "metadata": {},
   "source": [
    "<h1>Support Vctor Machine (SVM) for Banking-Marekting Dataset</h1><br/>"
   ]
  },
  {
   "cell_type": "markdown",
   "metadata": {},
   "source": [
    "<Strong>Link to blog : <a>https://medium.com/@JayashanThivanka/build-a-support-vector-machine-svm-for-a-banking-marketing-dataset-bb3b28bb9bbb</a></Strong><br/><br/>"
   ]
  },
  {
   "cell_type": "code",
   "execution_count": 1,
   "metadata": {},
   "outputs": [],
   "source": [
    "import pandas as pd\n",
    "import numpy as np\n",
    "from sklearn import linear_model\n",
    "from sklearn import datasets\n",
    "from sklearn import preprocessing\n",
    "from sklearn.preprocessing import StandardScaler"
   ]
  },
  {
   "cell_type": "markdown",
   "metadata": {},
   "source": [
    "<h5>Load the dataset</h5><br/>"
   ]
  },
  {
   "cell_type": "code",
   "execution_count": 2,
   "metadata": {},
   "outputs": [
    {
     "data": {
      "text/html": [
       "<div>\n",
       "<style scoped>\n",
       "    .dataframe tbody tr th:only-of-type {\n",
       "        vertical-align: middle;\n",
       "    }\n",
       "\n",
       "    .dataframe tbody tr th {\n",
       "        vertical-align: top;\n",
       "    }\n",
       "\n",
       "    .dataframe thead th {\n",
       "        text-align: right;\n",
       "    }\n",
       "</style>\n",
       "<table border=\"1\" class=\"dataframe\">\n",
       "  <thead>\n",
       "    <tr style=\"text-align: right;\">\n",
       "      <th></th>\n",
       "      <th>age</th>\n",
       "      <th>job</th>\n",
       "      <th>marital</th>\n",
       "      <th>education</th>\n",
       "      <th>default</th>\n",
       "      <th>housing</th>\n",
       "      <th>loan</th>\n",
       "      <th>contact</th>\n",
       "      <th>month</th>\n",
       "      <th>day_of_week</th>\n",
       "      <th>...</th>\n",
       "      <th>campaign</th>\n",
       "      <th>pdays</th>\n",
       "      <th>previous</th>\n",
       "      <th>poutcome</th>\n",
       "      <th>emp_var_rate</th>\n",
       "      <th>cons_price_idx</th>\n",
       "      <th>cons_conf_idx</th>\n",
       "      <th>euribor3m</th>\n",
       "      <th>nr_employed</th>\n",
       "      <th>y</th>\n",
       "    </tr>\n",
       "  </thead>\n",
       "  <tbody>\n",
       "    <tr>\n",
       "      <th>0</th>\n",
       "      <td>44</td>\n",
       "      <td>blue-collar</td>\n",
       "      <td>married</td>\n",
       "      <td>basic.4y</td>\n",
       "      <td>unknown</td>\n",
       "      <td>yes</td>\n",
       "      <td>no</td>\n",
       "      <td>cellular</td>\n",
       "      <td>aug</td>\n",
       "      <td>thu</td>\n",
       "      <td>...</td>\n",
       "      <td>1</td>\n",
       "      <td>999</td>\n",
       "      <td>0</td>\n",
       "      <td>nonexistent</td>\n",
       "      <td>1.4</td>\n",
       "      <td>93.444</td>\n",
       "      <td>-36.1</td>\n",
       "      <td>4.963</td>\n",
       "      <td>5228.1</td>\n",
       "      <td>0</td>\n",
       "    </tr>\n",
       "    <tr>\n",
       "      <th>1</th>\n",
       "      <td>53</td>\n",
       "      <td>technician</td>\n",
       "      <td>married</td>\n",
       "      <td>unknown</td>\n",
       "      <td>no</td>\n",
       "      <td>no</td>\n",
       "      <td>no</td>\n",
       "      <td>cellular</td>\n",
       "      <td>nov</td>\n",
       "      <td>fri</td>\n",
       "      <td>...</td>\n",
       "      <td>1</td>\n",
       "      <td>999</td>\n",
       "      <td>0</td>\n",
       "      <td>nonexistent</td>\n",
       "      <td>-0.1</td>\n",
       "      <td>93.200</td>\n",
       "      <td>-42.0</td>\n",
       "      <td>4.021</td>\n",
       "      <td>5195.8</td>\n",
       "      <td>0</td>\n",
       "    </tr>\n",
       "    <tr>\n",
       "      <th>2</th>\n",
       "      <td>28</td>\n",
       "      <td>management</td>\n",
       "      <td>single</td>\n",
       "      <td>university.degree</td>\n",
       "      <td>no</td>\n",
       "      <td>yes</td>\n",
       "      <td>no</td>\n",
       "      <td>cellular</td>\n",
       "      <td>jun</td>\n",
       "      <td>thu</td>\n",
       "      <td>...</td>\n",
       "      <td>3</td>\n",
       "      <td>6</td>\n",
       "      <td>2</td>\n",
       "      <td>success</td>\n",
       "      <td>-1.7</td>\n",
       "      <td>94.055</td>\n",
       "      <td>-39.8</td>\n",
       "      <td>0.729</td>\n",
       "      <td>4991.6</td>\n",
       "      <td>1</td>\n",
       "    </tr>\n",
       "    <tr>\n",
       "      <th>3</th>\n",
       "      <td>39</td>\n",
       "      <td>services</td>\n",
       "      <td>married</td>\n",
       "      <td>high.school</td>\n",
       "      <td>no</td>\n",
       "      <td>no</td>\n",
       "      <td>no</td>\n",
       "      <td>cellular</td>\n",
       "      <td>apr</td>\n",
       "      <td>fri</td>\n",
       "      <td>...</td>\n",
       "      <td>2</td>\n",
       "      <td>999</td>\n",
       "      <td>0</td>\n",
       "      <td>nonexistent</td>\n",
       "      <td>-1.8</td>\n",
       "      <td>93.075</td>\n",
       "      <td>-47.1</td>\n",
       "      <td>1.405</td>\n",
       "      <td>5099.1</td>\n",
       "      <td>0</td>\n",
       "    </tr>\n",
       "    <tr>\n",
       "      <th>4</th>\n",
       "      <td>55</td>\n",
       "      <td>retired</td>\n",
       "      <td>married</td>\n",
       "      <td>basic.4y</td>\n",
       "      <td>no</td>\n",
       "      <td>yes</td>\n",
       "      <td>no</td>\n",
       "      <td>cellular</td>\n",
       "      <td>aug</td>\n",
       "      <td>fri</td>\n",
       "      <td>...</td>\n",
       "      <td>1</td>\n",
       "      <td>3</td>\n",
       "      <td>1</td>\n",
       "      <td>success</td>\n",
       "      <td>-2.9</td>\n",
       "      <td>92.201</td>\n",
       "      <td>-31.4</td>\n",
       "      <td>0.869</td>\n",
       "      <td>5076.2</td>\n",
       "      <td>1</td>\n",
       "    </tr>\n",
       "    <tr>\n",
       "      <th>5</th>\n",
       "      <td>30</td>\n",
       "      <td>management</td>\n",
       "      <td>divorced</td>\n",
       "      <td>basic.4y</td>\n",
       "      <td>no</td>\n",
       "      <td>yes</td>\n",
       "      <td>no</td>\n",
       "      <td>cellular</td>\n",
       "      <td>jul</td>\n",
       "      <td>tue</td>\n",
       "      <td>...</td>\n",
       "      <td>8</td>\n",
       "      <td>999</td>\n",
       "      <td>0</td>\n",
       "      <td>nonexistent</td>\n",
       "      <td>1.4</td>\n",
       "      <td>93.918</td>\n",
       "      <td>-42.7</td>\n",
       "      <td>4.961</td>\n",
       "      <td>5228.1</td>\n",
       "      <td>0</td>\n",
       "    </tr>\n",
       "    <tr>\n",
       "      <th>6</th>\n",
       "      <td>37</td>\n",
       "      <td>blue-collar</td>\n",
       "      <td>married</td>\n",
       "      <td>basic.4y</td>\n",
       "      <td>no</td>\n",
       "      <td>yes</td>\n",
       "      <td>no</td>\n",
       "      <td>cellular</td>\n",
       "      <td>may</td>\n",
       "      <td>thu</td>\n",
       "      <td>...</td>\n",
       "      <td>1</td>\n",
       "      <td>999</td>\n",
       "      <td>0</td>\n",
       "      <td>nonexistent</td>\n",
       "      <td>-1.8</td>\n",
       "      <td>92.893</td>\n",
       "      <td>-46.2</td>\n",
       "      <td>1.327</td>\n",
       "      <td>5099.1</td>\n",
       "      <td>0</td>\n",
       "    </tr>\n",
       "    <tr>\n",
       "      <th>7</th>\n",
       "      <td>39</td>\n",
       "      <td>blue-collar</td>\n",
       "      <td>divorced</td>\n",
       "      <td>basic.9y</td>\n",
       "      <td>no</td>\n",
       "      <td>yes</td>\n",
       "      <td>no</td>\n",
       "      <td>cellular</td>\n",
       "      <td>may</td>\n",
       "      <td>fri</td>\n",
       "      <td>...</td>\n",
       "      <td>1</td>\n",
       "      <td>999</td>\n",
       "      <td>0</td>\n",
       "      <td>nonexistent</td>\n",
       "      <td>-1.8</td>\n",
       "      <td>92.893</td>\n",
       "      <td>-46.2</td>\n",
       "      <td>1.313</td>\n",
       "      <td>5099.1</td>\n",
       "      <td>0</td>\n",
       "    </tr>\n",
       "    <tr>\n",
       "      <th>8</th>\n",
       "      <td>36</td>\n",
       "      <td>admin.</td>\n",
       "      <td>married</td>\n",
       "      <td>university.degree</td>\n",
       "      <td>no</td>\n",
       "      <td>no</td>\n",
       "      <td>no</td>\n",
       "      <td>cellular</td>\n",
       "      <td>jun</td>\n",
       "      <td>mon</td>\n",
       "      <td>...</td>\n",
       "      <td>1</td>\n",
       "      <td>3</td>\n",
       "      <td>1</td>\n",
       "      <td>success</td>\n",
       "      <td>-2.9</td>\n",
       "      <td>92.963</td>\n",
       "      <td>-40.8</td>\n",
       "      <td>1.266</td>\n",
       "      <td>5076.2</td>\n",
       "      <td>1</td>\n",
       "    </tr>\n",
       "    <tr>\n",
       "      <th>9</th>\n",
       "      <td>27</td>\n",
       "      <td>blue-collar</td>\n",
       "      <td>single</td>\n",
       "      <td>basic.4y</td>\n",
       "      <td>no</td>\n",
       "      <td>yes</td>\n",
       "      <td>no</td>\n",
       "      <td>cellular</td>\n",
       "      <td>apr</td>\n",
       "      <td>thu</td>\n",
       "      <td>...</td>\n",
       "      <td>2</td>\n",
       "      <td>999</td>\n",
       "      <td>1</td>\n",
       "      <td>failure</td>\n",
       "      <td>-1.8</td>\n",
       "      <td>93.075</td>\n",
       "      <td>-47.1</td>\n",
       "      <td>1.410</td>\n",
       "      <td>5099.1</td>\n",
       "      <td>0</td>\n",
       "    </tr>\n",
       "  </tbody>\n",
       "</table>\n",
       "<p>10 rows × 21 columns</p>\n",
       "</div>"
      ],
      "text/plain": [
       "   age          job   marital          education  default housing loan  \\\n",
       "0   44  blue-collar   married           basic.4y  unknown     yes   no   \n",
       "1   53   technician   married            unknown       no      no   no   \n",
       "2   28   management    single  university.degree       no     yes   no   \n",
       "3   39     services   married        high.school       no      no   no   \n",
       "4   55      retired   married           basic.4y       no     yes   no   \n",
       "5   30   management  divorced           basic.4y       no     yes   no   \n",
       "6   37  blue-collar   married           basic.4y       no     yes   no   \n",
       "7   39  blue-collar  divorced           basic.9y       no     yes   no   \n",
       "8   36       admin.   married  university.degree       no      no   no   \n",
       "9   27  blue-collar    single           basic.4y       no     yes   no   \n",
       "\n",
       "    contact month day_of_week  ...  campaign  pdays  previous     poutcome  \\\n",
       "0  cellular   aug         thu  ...         1    999         0  nonexistent   \n",
       "1  cellular   nov         fri  ...         1    999         0  nonexistent   \n",
       "2  cellular   jun         thu  ...         3      6         2      success   \n",
       "3  cellular   apr         fri  ...         2    999         0  nonexistent   \n",
       "4  cellular   aug         fri  ...         1      3         1      success   \n",
       "5  cellular   jul         tue  ...         8    999         0  nonexistent   \n",
       "6  cellular   may         thu  ...         1    999         0  nonexistent   \n",
       "7  cellular   may         fri  ...         1    999         0  nonexistent   \n",
       "8  cellular   jun         mon  ...         1      3         1      success   \n",
       "9  cellular   apr         thu  ...         2    999         1      failure   \n",
       "\n",
       "  emp_var_rate  cons_price_idx  cons_conf_idx  euribor3m  nr_employed  y  \n",
       "0          1.4          93.444          -36.1      4.963       5228.1  0  \n",
       "1         -0.1          93.200          -42.0      4.021       5195.8  0  \n",
       "2         -1.7          94.055          -39.8      0.729       4991.6  1  \n",
       "3         -1.8          93.075          -47.1      1.405       5099.1  0  \n",
       "4         -2.9          92.201          -31.4      0.869       5076.2  1  \n",
       "5          1.4          93.918          -42.7      4.961       5228.1  0  \n",
       "6         -1.8          92.893          -46.2      1.327       5099.1  0  \n",
       "7         -1.8          92.893          -46.2      1.313       5099.1  0  \n",
       "8         -2.9          92.963          -40.8      1.266       5076.2  1  \n",
       "9         -1.8          93.075          -47.1      1.410       5099.1  0  \n",
       "\n",
       "[10 rows x 21 columns]"
      ]
     },
     "execution_count": 2,
     "metadata": {},
     "output_type": "execute_result"
    }
   ],
   "source": [
    "df = pd.read_csv('banking.csv')\n",
    "df.head(10)"
   ]
  },
  {
   "cell_type": "code",
   "execution_count": 3,
   "metadata": {},
   "outputs": [
    {
     "data": {
      "text/plain": [
       "(41188, 21)"
      ]
     },
     "execution_count": 3,
     "metadata": {},
     "output_type": "execute_result"
    }
   ],
   "source": [
    "df.shape"
   ]
  },
  {
   "cell_type": "code",
   "execution_count": 4,
   "metadata": {},
   "outputs": [
    {
     "name": "stdout",
     "output_type": "stream",
     "text": [
      "<class 'pandas.core.frame.DataFrame'>\n",
      "RangeIndex: 41188 entries, 0 to 41187\n",
      "Data columns (total 21 columns):\n",
      " #   Column          Non-Null Count  Dtype  \n",
      "---  ------          --------------  -----  \n",
      " 0   age             41188 non-null  int64  \n",
      " 1   job             41188 non-null  object \n",
      " 2   marital         41188 non-null  object \n",
      " 3   education       41188 non-null  object \n",
      " 4   default         41188 non-null  object \n",
      " 5   housing         41188 non-null  object \n",
      " 6   loan            41188 non-null  object \n",
      " 7   contact         41188 non-null  object \n",
      " 8   month           41188 non-null  object \n",
      " 9   day_of_week     41188 non-null  object \n",
      " 10  duration        41188 non-null  int64  \n",
      " 11  campaign        41188 non-null  int64  \n",
      " 12  pdays           41188 non-null  int64  \n",
      " 13  previous        41188 non-null  int64  \n",
      " 14  poutcome        41188 non-null  object \n",
      " 15  emp_var_rate    41188 non-null  float64\n",
      " 16  cons_price_idx  41188 non-null  float64\n",
      " 17  cons_conf_idx   41188 non-null  float64\n",
      " 18  euribor3m       41188 non-null  float64\n",
      " 19  nr_employed     41188 non-null  float64\n",
      " 20  y               41188 non-null  int64  \n",
      "dtypes: float64(5), int64(6), object(10)\n",
      "memory usage: 6.6+ MB\n"
     ]
    }
   ],
   "source": [
    "df.info()"
   ]
  },
  {
   "cell_type": "markdown",
   "metadata": {},
   "source": [
    "<h5>Check null values</h5>"
   ]
  },
  {
   "cell_type": "code",
   "execution_count": 5,
   "metadata": {},
   "outputs": [
    {
     "data": {
      "text/plain": [
       "age               0\n",
       "job               0\n",
       "marital           0\n",
       "education         0\n",
       "default           0\n",
       "housing           0\n",
       "loan              0\n",
       "contact           0\n",
       "month             0\n",
       "day_of_week       0\n",
       "duration          0\n",
       "campaign          0\n",
       "pdays             0\n",
       "previous          0\n",
       "poutcome          0\n",
       "emp_var_rate      0\n",
       "cons_price_idx    0\n",
       "cons_conf_idx     0\n",
       "euribor3m         0\n",
       "nr_employed       0\n",
       "y                 0\n",
       "dtype: int64"
      ]
     },
     "execution_count": 5,
     "metadata": {},
     "output_type": "execute_result"
    }
   ],
   "source": [
    "df.isnull().sum()"
   ]
  },
  {
   "cell_type": "markdown",
   "metadata": {},
   "source": [
    "<h5>Check not unique value count</h5>"
   ]
  },
  {
   "cell_type": "code",
   "execution_count": 6,
   "metadata": {},
   "outputs": [
    {
     "name": "stdout",
     "output_type": "stream",
     "text": [
      "age                 78\n",
      "job                 12\n",
      "marital              4\n",
      "education            8\n",
      "default              3\n",
      "housing              3\n",
      "loan                 3\n",
      "contact              2\n",
      "month               10\n",
      "day_of_week          5\n",
      "duration          1544\n",
      "campaign            42\n",
      "pdays               27\n",
      "previous             8\n",
      "poutcome             3\n",
      "emp_var_rate        10\n",
      "cons_price_idx      26\n",
      "cons_conf_idx       26\n",
      "euribor3m          316\n",
      "nr_employed         11\n",
      "y                    2\n",
      "dtype: int64\n"
     ]
    }
   ],
   "source": [
    "print(df.nunique())"
   ]
  },
  {
   "cell_type": "code",
   "execution_count": 7,
   "metadata": {},
   "outputs": [],
   "source": [
    "df = df.drop('duration', 1)"
   ]
  },
  {
   "cell_type": "code",
   "execution_count": 8,
   "metadata": {},
   "outputs": [],
   "source": [
    "df = df.drop(['day_of_week'], 1)"
   ]
  },
  {
   "cell_type": "code",
   "execution_count": 9,
   "metadata": {},
   "outputs": [
    {
     "data": {
      "text/html": [
       "<div>\n",
       "<style scoped>\n",
       "    .dataframe tbody tr th:only-of-type {\n",
       "        vertical-align: middle;\n",
       "    }\n",
       "\n",
       "    .dataframe tbody tr th {\n",
       "        vertical-align: top;\n",
       "    }\n",
       "\n",
       "    .dataframe thead th {\n",
       "        text-align: right;\n",
       "    }\n",
       "</style>\n",
       "<table border=\"1\" class=\"dataframe\">\n",
       "  <thead>\n",
       "    <tr style=\"text-align: right;\">\n",
       "      <th></th>\n",
       "      <th>age</th>\n",
       "      <th>job</th>\n",
       "      <th>marital</th>\n",
       "      <th>education</th>\n",
       "      <th>default</th>\n",
       "      <th>housing</th>\n",
       "      <th>loan</th>\n",
       "      <th>contact</th>\n",
       "      <th>month</th>\n",
       "      <th>campaign</th>\n",
       "      <th>pdays</th>\n",
       "      <th>previous</th>\n",
       "      <th>poutcome</th>\n",
       "      <th>emp_var_rate</th>\n",
       "      <th>cons_price_idx</th>\n",
       "      <th>cons_conf_idx</th>\n",
       "      <th>euribor3m</th>\n",
       "      <th>nr_employed</th>\n",
       "      <th>y</th>\n",
       "    </tr>\n",
       "  </thead>\n",
       "  <tbody>\n",
       "    <tr>\n",
       "      <th>0</th>\n",
       "      <td>44</td>\n",
       "      <td>blue-collar</td>\n",
       "      <td>married</td>\n",
       "      <td>basic.4y</td>\n",
       "      <td>unknown</td>\n",
       "      <td>yes</td>\n",
       "      <td>no</td>\n",
       "      <td>cellular</td>\n",
       "      <td>aug</td>\n",
       "      <td>1</td>\n",
       "      <td>999</td>\n",
       "      <td>0</td>\n",
       "      <td>nonexistent</td>\n",
       "      <td>1.4</td>\n",
       "      <td>93.444</td>\n",
       "      <td>-36.1</td>\n",
       "      <td>4.963</td>\n",
       "      <td>5228.1</td>\n",
       "      <td>0</td>\n",
       "    </tr>\n",
       "    <tr>\n",
       "      <th>1</th>\n",
       "      <td>53</td>\n",
       "      <td>technician</td>\n",
       "      <td>married</td>\n",
       "      <td>unknown</td>\n",
       "      <td>no</td>\n",
       "      <td>no</td>\n",
       "      <td>no</td>\n",
       "      <td>cellular</td>\n",
       "      <td>nov</td>\n",
       "      <td>1</td>\n",
       "      <td>999</td>\n",
       "      <td>0</td>\n",
       "      <td>nonexistent</td>\n",
       "      <td>-0.1</td>\n",
       "      <td>93.200</td>\n",
       "      <td>-42.0</td>\n",
       "      <td>4.021</td>\n",
       "      <td>5195.8</td>\n",
       "      <td>0</td>\n",
       "    </tr>\n",
       "    <tr>\n",
       "      <th>2</th>\n",
       "      <td>28</td>\n",
       "      <td>management</td>\n",
       "      <td>single</td>\n",
       "      <td>university.degree</td>\n",
       "      <td>no</td>\n",
       "      <td>yes</td>\n",
       "      <td>no</td>\n",
       "      <td>cellular</td>\n",
       "      <td>jun</td>\n",
       "      <td>3</td>\n",
       "      <td>6</td>\n",
       "      <td>2</td>\n",
       "      <td>success</td>\n",
       "      <td>-1.7</td>\n",
       "      <td>94.055</td>\n",
       "      <td>-39.8</td>\n",
       "      <td>0.729</td>\n",
       "      <td>4991.6</td>\n",
       "      <td>1</td>\n",
       "    </tr>\n",
       "    <tr>\n",
       "      <th>3</th>\n",
       "      <td>39</td>\n",
       "      <td>services</td>\n",
       "      <td>married</td>\n",
       "      <td>high.school</td>\n",
       "      <td>no</td>\n",
       "      <td>no</td>\n",
       "      <td>no</td>\n",
       "      <td>cellular</td>\n",
       "      <td>apr</td>\n",
       "      <td>2</td>\n",
       "      <td>999</td>\n",
       "      <td>0</td>\n",
       "      <td>nonexistent</td>\n",
       "      <td>-1.8</td>\n",
       "      <td>93.075</td>\n",
       "      <td>-47.1</td>\n",
       "      <td>1.405</td>\n",
       "      <td>5099.1</td>\n",
       "      <td>0</td>\n",
       "    </tr>\n",
       "    <tr>\n",
       "      <th>4</th>\n",
       "      <td>55</td>\n",
       "      <td>retired</td>\n",
       "      <td>married</td>\n",
       "      <td>basic.4y</td>\n",
       "      <td>no</td>\n",
       "      <td>yes</td>\n",
       "      <td>no</td>\n",
       "      <td>cellular</td>\n",
       "      <td>aug</td>\n",
       "      <td>1</td>\n",
       "      <td>3</td>\n",
       "      <td>1</td>\n",
       "      <td>success</td>\n",
       "      <td>-2.9</td>\n",
       "      <td>92.201</td>\n",
       "      <td>-31.4</td>\n",
       "      <td>0.869</td>\n",
       "      <td>5076.2</td>\n",
       "      <td>1</td>\n",
       "    </tr>\n",
       "    <tr>\n",
       "      <th>5</th>\n",
       "      <td>30</td>\n",
       "      <td>management</td>\n",
       "      <td>divorced</td>\n",
       "      <td>basic.4y</td>\n",
       "      <td>no</td>\n",
       "      <td>yes</td>\n",
       "      <td>no</td>\n",
       "      <td>cellular</td>\n",
       "      <td>jul</td>\n",
       "      <td>8</td>\n",
       "      <td>999</td>\n",
       "      <td>0</td>\n",
       "      <td>nonexistent</td>\n",
       "      <td>1.4</td>\n",
       "      <td>93.918</td>\n",
       "      <td>-42.7</td>\n",
       "      <td>4.961</td>\n",
       "      <td>5228.1</td>\n",
       "      <td>0</td>\n",
       "    </tr>\n",
       "    <tr>\n",
       "      <th>6</th>\n",
       "      <td>37</td>\n",
       "      <td>blue-collar</td>\n",
       "      <td>married</td>\n",
       "      <td>basic.4y</td>\n",
       "      <td>no</td>\n",
       "      <td>yes</td>\n",
       "      <td>no</td>\n",
       "      <td>cellular</td>\n",
       "      <td>may</td>\n",
       "      <td>1</td>\n",
       "      <td>999</td>\n",
       "      <td>0</td>\n",
       "      <td>nonexistent</td>\n",
       "      <td>-1.8</td>\n",
       "      <td>92.893</td>\n",
       "      <td>-46.2</td>\n",
       "      <td>1.327</td>\n",
       "      <td>5099.1</td>\n",
       "      <td>0</td>\n",
       "    </tr>\n",
       "    <tr>\n",
       "      <th>7</th>\n",
       "      <td>39</td>\n",
       "      <td>blue-collar</td>\n",
       "      <td>divorced</td>\n",
       "      <td>basic.9y</td>\n",
       "      <td>no</td>\n",
       "      <td>yes</td>\n",
       "      <td>no</td>\n",
       "      <td>cellular</td>\n",
       "      <td>may</td>\n",
       "      <td>1</td>\n",
       "      <td>999</td>\n",
       "      <td>0</td>\n",
       "      <td>nonexistent</td>\n",
       "      <td>-1.8</td>\n",
       "      <td>92.893</td>\n",
       "      <td>-46.2</td>\n",
       "      <td>1.313</td>\n",
       "      <td>5099.1</td>\n",
       "      <td>0</td>\n",
       "    </tr>\n",
       "    <tr>\n",
       "      <th>8</th>\n",
       "      <td>36</td>\n",
       "      <td>admin.</td>\n",
       "      <td>married</td>\n",
       "      <td>university.degree</td>\n",
       "      <td>no</td>\n",
       "      <td>no</td>\n",
       "      <td>no</td>\n",
       "      <td>cellular</td>\n",
       "      <td>jun</td>\n",
       "      <td>1</td>\n",
       "      <td>3</td>\n",
       "      <td>1</td>\n",
       "      <td>success</td>\n",
       "      <td>-2.9</td>\n",
       "      <td>92.963</td>\n",
       "      <td>-40.8</td>\n",
       "      <td>1.266</td>\n",
       "      <td>5076.2</td>\n",
       "      <td>1</td>\n",
       "    </tr>\n",
       "    <tr>\n",
       "      <th>9</th>\n",
       "      <td>27</td>\n",
       "      <td>blue-collar</td>\n",
       "      <td>single</td>\n",
       "      <td>basic.4y</td>\n",
       "      <td>no</td>\n",
       "      <td>yes</td>\n",
       "      <td>no</td>\n",
       "      <td>cellular</td>\n",
       "      <td>apr</td>\n",
       "      <td>2</td>\n",
       "      <td>999</td>\n",
       "      <td>1</td>\n",
       "      <td>failure</td>\n",
       "      <td>-1.8</td>\n",
       "      <td>93.075</td>\n",
       "      <td>-47.1</td>\n",
       "      <td>1.410</td>\n",
       "      <td>5099.1</td>\n",
       "      <td>0</td>\n",
       "    </tr>\n",
       "  </tbody>\n",
       "</table>\n",
       "</div>"
      ],
      "text/plain": [
       "   age          job   marital          education  default housing loan  \\\n",
       "0   44  blue-collar   married           basic.4y  unknown     yes   no   \n",
       "1   53   technician   married            unknown       no      no   no   \n",
       "2   28   management    single  university.degree       no     yes   no   \n",
       "3   39     services   married        high.school       no      no   no   \n",
       "4   55      retired   married           basic.4y       no     yes   no   \n",
       "5   30   management  divorced           basic.4y       no     yes   no   \n",
       "6   37  blue-collar   married           basic.4y       no     yes   no   \n",
       "7   39  blue-collar  divorced           basic.9y       no     yes   no   \n",
       "8   36       admin.   married  university.degree       no      no   no   \n",
       "9   27  blue-collar    single           basic.4y       no     yes   no   \n",
       "\n",
       "    contact month  campaign  pdays  previous     poutcome  emp_var_rate  \\\n",
       "0  cellular   aug         1    999         0  nonexistent           1.4   \n",
       "1  cellular   nov         1    999         0  nonexistent          -0.1   \n",
       "2  cellular   jun         3      6         2      success          -1.7   \n",
       "3  cellular   apr         2    999         0  nonexistent          -1.8   \n",
       "4  cellular   aug         1      3         1      success          -2.9   \n",
       "5  cellular   jul         8    999         0  nonexistent           1.4   \n",
       "6  cellular   may         1    999         0  nonexistent          -1.8   \n",
       "7  cellular   may         1    999         0  nonexistent          -1.8   \n",
       "8  cellular   jun         1      3         1      success          -2.9   \n",
       "9  cellular   apr         2    999         1      failure          -1.8   \n",
       "\n",
       "   cons_price_idx  cons_conf_idx  euribor3m  nr_employed  y  \n",
       "0          93.444          -36.1      4.963       5228.1  0  \n",
       "1          93.200          -42.0      4.021       5195.8  0  \n",
       "2          94.055          -39.8      0.729       4991.6  1  \n",
       "3          93.075          -47.1      1.405       5099.1  0  \n",
       "4          92.201          -31.4      0.869       5076.2  1  \n",
       "5          93.918          -42.7      4.961       5228.1  0  \n",
       "6          92.893          -46.2      1.327       5099.1  0  \n",
       "7          92.893          -46.2      1.313       5099.1  0  \n",
       "8          92.963          -40.8      1.266       5076.2  1  \n",
       "9          93.075          -47.1      1.410       5099.1  0  "
      ]
     },
     "execution_count": 9,
     "metadata": {},
     "output_type": "execute_result"
    }
   ],
   "source": [
    "df.head(10)"
   ]
  },
  {
   "cell_type": "code",
   "execution_count": 10,
   "metadata": {},
   "outputs": [
    {
     "data": {
      "text/plain": [
       "no         32588\n",
       "unknown     8597\n",
       "yes            3\n",
       "Name: default, dtype: int64"
      ]
     },
     "execution_count": 10,
     "metadata": {},
     "output_type": "execute_result"
    }
   ],
   "source": [
    "df['default'].value_counts()"
   ]
  },
  {
   "cell_type": "markdown",
   "metadata": {},
   "source": [
    "<h1>Handeling Outliers</h1>"
   ]
  },
  {
   "cell_type": "markdown",
   "metadata": {},
   "source": [
    "<h4>Get the continous data features to a seperate dataframe</h4>"
   ]
  },
  {
   "cell_type": "code",
   "execution_count": 11,
   "metadata": {},
   "outputs": [
    {
     "name": "stdout",
     "output_type": "stream",
     "text": [
      "<class 'pandas.core.frame.DataFrame'>\n",
      "RangeIndex: 41188 entries, 0 to 41187\n",
      "Data columns (total 10 columns):\n",
      " #   Column          Non-Null Count  Dtype  \n",
      "---  ------          --------------  -----  \n",
      " 0   age             41188 non-null  int64  \n",
      " 1   campaign        41188 non-null  int64  \n",
      " 2   pdays           41188 non-null  int64  \n",
      " 3   previous        41188 non-null  int64  \n",
      " 4   emp_var_rate    41188 non-null  float64\n",
      " 5   cons_price_idx  41188 non-null  float64\n",
      " 6   cons_conf_idx   41188 non-null  float64\n",
      " 7   euribor3m       41188 non-null  float64\n",
      " 8   nr_employed     41188 non-null  float64\n",
      " 9   y               41188 non-null  int64  \n",
      "dtypes: float64(5), int64(5)\n",
      "memory usage: 3.1 MB\n"
     ]
    }
   ],
   "source": [
    "df_continous = df.select_dtypes(include = np.number)\n",
    "df_continous.info()"
   ]
  },
  {
   "cell_type": "markdown",
   "metadata": {},
   "source": [
    "<h5>Get categorical features into seperate data frame</h5>"
   ]
  },
  {
   "cell_type": "code",
   "execution_count": 12,
   "metadata": {},
   "outputs": [
    {
     "name": "stdout",
     "output_type": "stream",
     "text": [
      "<class 'pandas.core.frame.DataFrame'>\n",
      "RangeIndex: 41188 entries, 0 to 41187\n",
      "Data columns (total 9 columns):\n",
      " #   Column     Non-Null Count  Dtype \n",
      "---  ------     --------------  ----- \n",
      " 0   job        41188 non-null  object\n",
      " 1   marital    41188 non-null  object\n",
      " 2   education  41188 non-null  object\n",
      " 3   default    41188 non-null  object\n",
      " 4   housing    41188 non-null  object\n",
      " 5   loan       41188 non-null  object\n",
      " 6   contact    41188 non-null  object\n",
      " 7   month      41188 non-null  object\n",
      " 8   poutcome   41188 non-null  object\n",
      "dtypes: object(9)\n",
      "memory usage: 2.8+ MB\n"
     ]
    }
   ],
   "source": [
    "df_categorical = df.select_dtypes(include = np.object)\n",
    "df_categorical.info()"
   ]
  },
  {
   "cell_type": "code",
   "execution_count": 13,
   "metadata": {},
   "outputs": [
    {
     "data": {
      "text/plain": [
       "<AxesSubplot:>"
      ]
     },
     "execution_count": 13,
     "metadata": {},
     "output_type": "execute_result"
    },
    {
     "data": {
      "image/png": "[encoded data removed]",
      "text/plain": [
       "<Figure size 432x288 with 1 Axes>"
      ]
     },
     "metadata": {
      "needs_background": "light"
     },
     "output_type": "display_data"
    }
   ],
   "source": [
    "df_continous.boxplot(column=['age'],vert = False)"
   ]
  },
  {
   "cell_type": "code",
   "execution_count": 14,
   "metadata": {},
   "outputs": [
    {
     "data": {
      "text/plain": [
       "<AxesSubplot:>"
      ]
     },
     "execution_count": 14,
     "metadata": {},
     "output_type": "execute_result"
    },
    {
     "data": {
      "image/png": "[encoded data removed]",
      "text/plain": [
       "<Figure size 432x288 with 1 Axes>"
      ]
     },
     "metadata": {
      "needs_background": "light"
     },
     "output_type": "display_data"
    }
   ],
   "source": [
    "df_continous.boxplot(column=['campaign'],vert = False)"
   ]
  },
  {
   "cell_type": "markdown",
   "metadata": {},
   "source": [
    "<h5>Here we can see that there are outliers in campaign clearly from above boxplot</h5>"
   ]
  },
  {
   "cell_type": "code",
   "execution_count": 15,
   "metadata": {},
   "outputs": [
    {
     "name": "stdout",
     "output_type": "stream",
     "text": [
      "Before Shape: (41188, 10)\n",
      "After Shape: (41187, 10)\n"
     ]
    },
    {
     "data": {
      "image/png": "[encoded data removed]",
      "text/plain": [
       "<Figure size 432x288 with 2 Axes>"
      ]
     },
     "metadata": {
      "needs_background": "light"
     },
     "output_type": "display_data"
    }
   ],
   "source": [
    "import matplotlib.pyplot as plt\n",
    "import warnings\n",
    "import seaborn as sns\n",
    "warnings.filterwarnings(\"ignore\")\n",
    "fig, axes = plt.subplots(1,2)\n",
    "plt.tight_layout(0.2)\n",
    "\n",
    "\n",
    "print(\"Before Shape:\",df_continous.shape)\n",
    "\n",
    "#select values less than 50\n",
    "df_temp = df_continous[(df_continous['campaign'] < 50)]\n",
    "print(\"After Shape:\",df_temp.shape)\n",
    "\n",
    "sns.boxplot(df['campaign'],orient='v',ax=axes[0])\n",
    "axes[0].title.set_text(\"Before\")\n",
    "sns.boxplot(df_temp['campaign'],orient='v',ax=axes[1])\n",
    "axes[1].title.set_text(\"After\")\n",
    "plt.show()\n",
    "\n",
    "df_continous = df_temp"
   ]
  },
  {
   "cell_type": "code",
   "execution_count": 16,
   "metadata": {},
   "outputs": [
    {
     "data": {
      "text/plain": [
       "<AxesSubplot:>"
      ]
     },
     "execution_count": 16,
     "metadata": {},
     "output_type": "execute_result"
    },
    {
     "data": {
      "image/png": "[encoded data removed]",
      "text/plain": [
       "<Figure size 432x288 with 1 Axes>"
      ]
     },
     "metadata": {
      "needs_background": "light"
     },
     "output_type": "display_data"
    }
   ],
   "source": [
    "df_continous.boxplot(column=['pdays'],vert=False)"
   ]
  },
  {
   "cell_type": "code",
   "execution_count": 17,
   "metadata": {},
   "outputs": [
    {
     "data": {
      "text/plain": [
       "<AxesSubplot:>"
      ]
     },
     "execution_count": 17,
     "metadata": {},
     "output_type": "execute_result"
    },
    {
     "data": {
      "image/png": "[encoded data removed]",
      "text/plain": [
       "<Figure size 432x288 with 1 Axes>"
      ]
     },
     "metadata": {
      "needs_background": "light"
     },
     "output_type": "display_data"
    }
   ],
   "source": [
    "df_continous.boxplot(column=['previous'],vert=False)"
   ]
  },
  {
   "cell_type": "code",
   "execution_count": 18,
   "metadata": {},
   "outputs": [
    {
     "data": {
      "text/plain": [
       "<AxesSubplot:>"
      ]
     },
     "execution_count": 18,
     "metadata": {},
     "output_type": "execute_result"
    },
    {
     "data": {
      "image/png": "[encoded data removed]",
      "text/plain": [
       "<Figure size 432x288 with 1 Axes>"
      ]
     },
     "metadata": {
      "needs_background": "light"
     },
     "output_type": "display_data"
    }
   ],
   "source": [
    "df_continous.boxplot(column=['emp_var_rate'],vert=False)"
   ]
  },
  {
   "cell_type": "code",
   "execution_count": 19,
   "metadata": {},
   "outputs": [
    {
     "data": {
      "text/plain": [
       "<AxesSubplot:>"
      ]
     },
     "execution_count": 19,
     "metadata": {},
     "output_type": "execute_result"
    },
    {
     "data": {
      "image/png": "[encoded data removed]",
      "text/plain": [
       "<Figure size 432x288 with 1 Axes>"
      ]
     },
     "metadata": {
      "needs_background": "light"
     },
     "output_type": "display_data"
    }
   ],
   "source": [
    "df_continous.boxplot(column=['cons_price_idx'],vert=False)"
   ]
  },
  {
   "cell_type": "code",
   "execution_count": 20,
   "metadata": {},
   "outputs": [
    {
     "data": {
      "text/plain": [
       "<AxesSubplot:>"
      ]
     },
     "execution_count": 20,
     "metadata": {},
     "output_type": "execute_result"
    },
    {
     "data": {
      "image/png": "[encoded data removed]",
      "text/plain": [
       "<Figure size 432x288 with 1 Axes>"
      ]
     },
     "metadata": {
      "needs_background": "light"
     },
     "output_type": "display_data"
    }
   ],
   "source": [
    "df_continous.boxplot(column=['cons_price_idx'],vert=False)"
   ]
  },
  {
   "cell_type": "code",
   "execution_count": 21,
   "metadata": {},
   "outputs": [
    {
     "data": {
      "text/plain": [
       "<AxesSubplot:>"
      ]
     },
     "execution_count": 21,
     "metadata": {},
     "output_type": "execute_result"
    },
    {
     "data": {
      "image/png": "[encoded data removed]",
      "text/plain": [
       "<Figure size 432x288 with 1 Axes>"
      ]
     },
     "metadata": {
      "needs_background": "light"
     },
     "output_type": "display_data"
    }
   ],
   "source": [
    "df_continous.boxplot(column=['cons_conf_idx'],vert=False)"
   ]
  },
  {
   "cell_type": "code",
   "execution_count": 22,
   "metadata": {},
   "outputs": [
    {
     "name": "stdout",
     "output_type": "stream",
     "text": [
      "Before Shape: (41187, 10)\n",
      "After Shape: (40740, 10)\n"
     ]
    },
    {
     "data": {
      "image/png": "[encoded data removed]",
      "text/plain": [
       "<Figure size 432x288 with 2 Axes>"
      ]
     },
     "metadata": {
      "needs_background": "light"
     },
     "output_type": "display_data"
    }
   ],
   "source": [
    "import matplotlib.pyplot as plt\n",
    "import warnings\n",
    "import seaborn as sns\n",
    "warnings.filterwarnings(\"ignore\")\n",
    "fig, axes = plt.subplots(1,2)\n",
    "plt.tight_layout(0.2)\n",
    "\n",
    "\n",
    "print(\"Before Shape:\",df_continous.shape)\n",
    "\n",
    "#select values less than 50\n",
    "df_temp = df_continous[(df_continous['cons_conf_idx'] < -27)]\n",
    "print(\"After Shape:\",df_temp.shape)\n",
    "\n",
    "sns.boxplot(df['cons_conf_idx'],orient='v',ax=axes[0])\n",
    "axes[0].title.set_text(\"Before\")\n",
    "sns.boxplot(df_temp['cons_conf_idx'],orient='v',ax=axes[1])\n",
    "axes[1].title.set_text(\"After\")\n",
    "plt.show()\n",
    "\n",
    "df_continous = df_temp"
   ]
  },
  {
   "cell_type": "code",
   "execution_count": 23,
   "metadata": {},
   "outputs": [],
   "source": [
    "# cols = ['cons_conf_idx']    \n",
    "\n",
    "# df_temp = df_continous\n",
    "# for col in cols:\n",
    "\n",
    "#     fig, axes = plt.subplots(1,2)\n",
    "#     plt.tight_layout(0.2)\n",
    "#     print(\"Previous Shape With Outlier: \",df_temp.shape)\n",
    "#     sns.boxplot(df_temp[col],orient='v',ax=axes[0])\n",
    "#     axes[0].title.set_text(\"Before\")\n",
    "    \n",
    "#     Q1 = df_temp[col].quantile(0.25)\n",
    "#     Q3 = df_temp[col].quantile(0.75)\n",
    "#     print(Q1,Q3)\n",
    "#     IQR = Q3-Q1\n",
    "#     print(IQR)\n",
    "\n",
    "#     lower_limit = Q1 - 1.5*IQR\n",
    "#     upper_limit = Q3 + 1.5*IQR\n",
    "#     print(lower_limit,upper_limit)\n",
    "\n",
    "#     df_temp[col] = np.where(df_temp[col]>upper_limit,upper_limit,df_temp[col])\n",
    "#     df_temp[col] = np.where(df_temp[col]<lower_limit,lower_limit,df_temp[col])\n",
    "#     print(\"Shape After Removing Outliers:\", df_temp.shape)\n",
    "#     sns.boxplot(df_temp[col],orient='v',ax=axes[1])\n",
    "#     axes[1].title.set_text(\"After\")\n",
    "#     df_continous[col] = df_temp[col]\n",
    "#     plt.show()"
   ]
  },
  {
   "cell_type": "code",
   "execution_count": 24,
   "metadata": {},
   "outputs": [
    {
     "data": {
      "text/plain": [
       "<AxesSubplot:>"
      ]
     },
     "execution_count": 24,
     "metadata": {},
     "output_type": "execute_result"
    },
    {
     "data": {
      "image/png": "[encoded data removed]",
      "text/plain": [
       "<Figure size 432x288 with 1 Axes>"
      ]
     },
     "metadata": {
      "needs_background": "light"
     },
     "output_type": "display_data"
    }
   ],
   "source": [
    "df_continous.boxplot(column=['euribor3m'],vert=False)"
   ]
  },
  {
   "cell_type": "code",
   "execution_count": 25,
   "metadata": {},
   "outputs": [
    {
     "data": {
      "text/plain": [
       "<AxesSubplot:>"
      ]
     },
     "execution_count": 25,
     "metadata": {},
     "output_type": "execute_result"
    },
    {
     "data": {
      "image/png": "[encoded data removed]",
      "text/plain": [
       "<Figure size 432x288 with 1 Axes>"
      ]
     },
     "metadata": {
      "needs_background": "light"
     },
     "output_type": "display_data"
    }
   ],
   "source": [
    "df_continous.boxplot(column=['nr_employed'],vert=False) "
   ]
  },
  {
   "cell_type": "markdown",
   "metadata": {},
   "source": [
    "<h1>Produce Q-Q Plots</h1>"
   ]
  },
  {
   "cell_type": "code",
   "execution_count": 26,
   "metadata": {},
   "outputs": [
    {
     "name": "stdout",
     "output_type": "stream",
     "text": [
      "age\n"
     ]
    },
    {
     "data": {
      "image/png": "[encoded data removed]",
      "text/plain": [
       "<Figure size 432x288 with 1 Axes>"
      ]
     },
     "metadata": {
      "needs_background": "light"
     },
     "output_type": "display_data"
    },
    {
     "name": "stdout",
     "output_type": "stream",
     "text": [
      "campaign\n"
     ]
    },
    {
     "data": {
      "image/png": "[encoded data removed]",
      "text/plain": [
       "<Figure size 432x288 with 1 Axes>"
      ]
     },
     "metadata": {
      "needs_background": "light"
     },
     "output_type": "display_data"
    },
    {
     "name": "stdout",
     "output_type": "stream",
     "text": [
      "pdays\n"
     ]
    },
    {
     "data": {
      "image/png": "[encoded data removed]",
      "text/plain": [
       "<Figure size 432x288 with 1 Axes>"
      ]
     },
     "metadata": {
      "needs_background": "light"
     },
     "output_type": "display_data"
    },
    {
     "name": "stdout",
     "output_type": "stream",
     "text": [
      "previous\n"
     ]
    },
    {
     "data": {
      "image/png": "[encoded data removed]",
      "text/plain": [
       "<Figure size 432x288 with 1 Axes>"
      ]
     },
     "metadata": {
      "needs_background": "light"
     },
     "output_type": "display_data"
    },
    {
     "name": "stdout",
     "output_type": "stream",
     "text": [
      "emp_var_rate\n"
     ]
    },
    {
     "data": {
      "image/png": "[encoded data removed]",
      "text/plain": [
       "<Figure size 432x288 with 1 Axes>"
      ]
     },
     "metadata": {
      "needs_background": "light"
     },
     "output_type": "display_data"
    },
    {
     "name": "stdout",
     "output_type": "stream",
     "text": [
      "cons_price_idx\n"
     ]
    },
    {
     "data": {
      "image/png": "[encoded data removed]",
      "text/plain": [
       "<Figure size 432x288 with 1 Axes>"
      ]
     },
     "metadata": {
      "needs_background": "light"
     },
     "output_type": "display_data"
    },
    {
     "name": "stdout",
     "output_type": "stream",
     "text": [
      "cons_conf_idx\n"
     ]
    },
    {
     "data": {
      "image/png": "[encoded data removed]",
      "text/plain": [
       "<Figure size 432x288 with 1 Axes>"
      ]
     },
     "metadata": {
      "needs_background": "light"
     },
     "output_type": "display_data"
    },
    {
     "name": "stdout",
     "output_type": "stream",
     "text": [
      "euribor3m\n"
     ]
    },
    {
     "data": {
      "image/png": "[encoded data removed]",
      "text/plain": [
       "<Figure size 432x288 with 1 Axes>"
      ]
     },
     "metadata": {
      "needs_background": "light"
     },
     "output_type": "display_data"
    },
    {
     "name": "stdout",
     "output_type": "stream",
     "text": [
      "nr_employed\n"
     ]
    },
    {
     "data": {
      "image/png": "[encoded data removed]",
      "text/plain": [
       "<Figure size 432x288 with 1 Axes>"
      ]
     },
     "metadata": {
      "needs_background": "light"
     },
     "output_type": "display_data"
    },
    {
     "name": "stdout",
     "output_type": "stream",
     "text": [
      "y\n"
     ]
    },
    {
     "data": {
      "image/png": "[encoded data removed]",
      "text/plain": [
       "<Figure size 432x288 with 1 Axes>"
      ]
     },
     "metadata": {
      "needs_background": "light"
     },
     "output_type": "display_data"
    }
   ],
   "source": [
    "import scipy.stats as stats\n",
    "\n",
    "columns = df_continous.columns\n",
    "\n",
    "for col in columns:\n",
    "  print(col)\n",
    "  stats.probplot(df_continous[col], dist=\"norm\", plot=plt)\n",
    "  plt.show()"
   ]
  },
  {
   "cell_type": "markdown",
   "metadata": {},
   "source": [
    "<h1>Produce Hoistograms</h1>"
   ]
  },
  {
   "cell_type": "code",
   "execution_count": 27,
   "metadata": {},
   "outputs": [
    {
     "data": {
      "text/plain": [
       "array([[<AxesSubplot:title={'center':'age'}>,\n",
       "        <AxesSubplot:title={'center':'campaign'}>,\n",
       "        <AxesSubplot:title={'center':'pdays'}>,\n",
       "        <AxesSubplot:title={'center':'previous'}>],\n",
       "       [<AxesSubplot:title={'center':'emp_var_rate'}>,\n",
       "        <AxesSubplot:title={'center':'cons_price_idx'}>,\n",
       "        <AxesSubplot:title={'center':'cons_conf_idx'}>,\n",
       "        <AxesSubplot:title={'center':'euribor3m'}>],\n",
       "       [<AxesSubplot:title={'center':'nr_employed'}>,\n",
       "        <AxesSubplot:title={'center':'y'}>, <AxesSubplot:>,\n",
       "        <AxesSubplot:>]], dtype=object)"
      ]
     },
     "execution_count": 27,
     "metadata": {},
     "output_type": "execute_result"
    },
    {
     "data": {
      "image/png": "[encoded data removed]",
      "text/plain": [
       "<Figure size 720x720 with 12 Axes>"
      ]
     },
     "metadata": {
      "needs_background": "light"
     },
     "output_type": "display_data"
    }
   ],
   "source": [
    "df_continous.hist(layout=(3,4), figsize=(10,10))"
   ]
  },
  {
   "cell_type": "markdown",
   "metadata": {},
   "source": [
    "<h2>Apply Transformations</h2>"
   ]
  },
  {
   "cell_type": "markdown",
   "metadata": {},
   "source": [
    "<h4>Age,campaign and previous are right skewed</h4>"
   ]
  },
  {
   "cell_type": "code",
   "execution_count": 28,
   "metadata": {},
   "outputs": [
    {
     "name": "stdout",
     "output_type": "stream",
     "text": [
      "age\n"
     ]
    },
    {
     "data": {
      "image/png": "[encoded data removed]",
      "text/plain": [
       "<Figure size 1440x360 with 2 Axes>"
      ]
     },
     "metadata": {
      "needs_background": "light"
     },
     "output_type": "display_data"
    },
    {
     "name": "stdout",
     "output_type": "stream",
     "text": [
      "campaign\n"
     ]
    },
    {
     "data": {
      "image/png": "[encoded data removed]",
      "text/plain": [
       "<Figure size 1440x360 with 2 Axes>"
      ]
     },
     "metadata": {
      "needs_background": "light"
     },
     "output_type": "display_data"
    },
    {
     "name": "stdout",
     "output_type": "stream",
     "text": [
      "previous\n"
     ]
    },
    {
     "data": {
      "image/png": "[encoded data removed]",
      "text/plain": [
       "<Figure size 1440x360 with 2 Axes>"
      ]
     },
     "metadata": {
      "needs_background": "light"
     },
     "output_type": "display_data"
    }
   ],
   "source": [
    "from sklearn.preprocessing import FunctionTransformer\n",
    "\n",
    "sqrt_transformer=FunctionTransformer(np.sqrt,validate=True)\n",
    "\n",
    "sqrt_cols=['age','campaign','previous']\n",
    "transformed=sqrt_transformer.transform(df_continous[sqrt_cols])\n",
    "\n",
    "for index,col in enumerate(sqrt_cols):\n",
    "    df_continous[col]=transformed[:,index]\n",
    "    fig,axes=plt.subplots(nrows=1,ncols=2,figsize=(20,5))\n",
    "    print(col)\n",
    "    stats.probplot(df_continous[col], dist=\"norm\", plot=axes[0])\n",
    "    axes[1].hist(df_continous[col])\n",
    "    plt.show()"
   ]
  },
  {
   "cell_type": "markdown",
   "metadata": {},
   "source": [
    "<h3>nr_employed is left skwed<br/></h3>"
   ]
  },
  {
   "cell_type": "code",
   "execution_count": 29,
   "metadata": {},
   "outputs": [],
   "source": [
    "columns = ['nr_employed']\n",
    "exp_transformer = FunctionTransformer(lambda x:x**2, validate=True)\n",
    "to_left_skewed = exp_transformer.transform(df_continous[columns])\n",
    "df_continous['nr_employed'] = to_left_skewed[:, 0]"
   ]
  },
  {
   "cell_type": "markdown",
   "metadata": {},
   "source": [
    "<h5>use expotentoial transform to remove skewness</h5>"
   ]
  },
  {
   "cell_type": "code",
   "execution_count": 30,
   "metadata": {},
   "outputs": [
    {
     "name": "stdout",
     "output_type": "stream",
     "text": [
      "nr_employed\n"
     ]
    },
    {
     "data": {
      "image/png": "[encoded data removed]",
      "text/plain": [
       "<Figure size 1440x360 with 2 Axes>"
      ]
     },
     "metadata": {
      "needs_background": "light"
     },
     "output_type": "display_data"
    }
   ],
   "source": [
    "fig,axes=plt.subplots(nrows=1,ncols=2,figsize=(20,5))\n",
    "print('nr_employed')\n",
    "stats.probplot(df_continous['nr_employed'], dist=\"norm\", plot=axes[0])\n",
    "axes[1].hist(df_continous['nr_employed'])\n",
    "plt.show()"
   ]
  },
  {
   "cell_type": "code",
   "execution_count": 31,
   "metadata": {},
   "outputs": [
    {
     "data": {
      "text/html": [
       "<div>\n",
       "<style scoped>\n",
       "    .dataframe tbody tr th:only-of-type {\n",
       "        vertical-align: middle;\n",
       "    }\n",
       "\n",
       "    .dataframe tbody tr th {\n",
       "        vertical-align: top;\n",
       "    }\n",
       "\n",
       "    .dataframe thead th {\n",
       "        text-align: right;\n",
       "    }\n",
       "</style>\n",
       "<table border=\"1\" class=\"dataframe\">\n",
       "  <thead>\n",
       "    <tr style=\"text-align: right;\">\n",
       "      <th></th>\n",
       "      <th>age</th>\n",
       "      <th>campaign</th>\n",
       "      <th>pdays</th>\n",
       "      <th>previous</th>\n",
       "      <th>emp_var_rate</th>\n",
       "      <th>cons_price_idx</th>\n",
       "      <th>cons_conf_idx</th>\n",
       "      <th>euribor3m</th>\n",
       "      <th>nr_employed</th>\n",
       "      <th>y</th>\n",
       "    </tr>\n",
       "  </thead>\n",
       "  <tbody>\n",
       "    <tr>\n",
       "      <th>0</th>\n",
       "      <td>6.633250</td>\n",
       "      <td>1.000000</td>\n",
       "      <td>999</td>\n",
       "      <td>0.000000</td>\n",
       "      <td>1.4</td>\n",
       "      <td>93.444</td>\n",
       "      <td>-36.1</td>\n",
       "      <td>4.963</td>\n",
       "      <td>27333029.61</td>\n",
       "      <td>0</td>\n",
       "    </tr>\n",
       "    <tr>\n",
       "      <th>1</th>\n",
       "      <td>7.280110</td>\n",
       "      <td>1.000000</td>\n",
       "      <td>999</td>\n",
       "      <td>0.000000</td>\n",
       "      <td>-0.1</td>\n",
       "      <td>93.200</td>\n",
       "      <td>-42.0</td>\n",
       "      <td>4.021</td>\n",
       "      <td>26996337.64</td>\n",
       "      <td>0</td>\n",
       "    </tr>\n",
       "    <tr>\n",
       "      <th>2</th>\n",
       "      <td>5.291503</td>\n",
       "      <td>1.732051</td>\n",
       "      <td>6</td>\n",
       "      <td>1.414214</td>\n",
       "      <td>-1.7</td>\n",
       "      <td>94.055</td>\n",
       "      <td>-39.8</td>\n",
       "      <td>0.729</td>\n",
       "      <td>24916070.56</td>\n",
       "      <td>1</td>\n",
       "    </tr>\n",
       "    <tr>\n",
       "      <th>3</th>\n",
       "      <td>6.244998</td>\n",
       "      <td>1.414214</td>\n",
       "      <td>999</td>\n",
       "      <td>0.000000</td>\n",
       "      <td>-1.8</td>\n",
       "      <td>93.075</td>\n",
       "      <td>-47.1</td>\n",
       "      <td>1.405</td>\n",
       "      <td>26000820.81</td>\n",
       "      <td>0</td>\n",
       "    </tr>\n",
       "    <tr>\n",
       "      <th>4</th>\n",
       "      <td>7.416198</td>\n",
       "      <td>1.000000</td>\n",
       "      <td>3</td>\n",
       "      <td>1.000000</td>\n",
       "      <td>-2.9</td>\n",
       "      <td>92.201</td>\n",
       "      <td>-31.4</td>\n",
       "      <td>0.869</td>\n",
       "      <td>25767806.44</td>\n",
       "      <td>1</td>\n",
       "    </tr>\n",
       "    <tr>\n",
       "      <th>...</th>\n",
       "      <td>...</td>\n",
       "      <td>...</td>\n",
       "      <td>...</td>\n",
       "      <td>...</td>\n",
       "      <td>...</td>\n",
       "      <td>...</td>\n",
       "      <td>...</td>\n",
       "      <td>...</td>\n",
       "      <td>...</td>\n",
       "      <td>...</td>\n",
       "    </tr>\n",
       "    <tr>\n",
       "      <th>41182</th>\n",
       "      <td>4.898979</td>\n",
       "      <td>2.000000</td>\n",
       "      <td>999</td>\n",
       "      <td>1.000000</td>\n",
       "      <td>-1.8</td>\n",
       "      <td>92.893</td>\n",
       "      <td>-46.2</td>\n",
       "      <td>1.266</td>\n",
       "      <td>26000820.81</td>\n",
       "      <td>0</td>\n",
       "    </tr>\n",
       "    <tr>\n",
       "      <th>41183</th>\n",
       "      <td>7.681146</td>\n",
       "      <td>1.000000</td>\n",
       "      <td>999</td>\n",
       "      <td>0.000000</td>\n",
       "      <td>1.4</td>\n",
       "      <td>94.465</td>\n",
       "      <td>-41.8</td>\n",
       "      <td>4.866</td>\n",
       "      <td>27333029.61</td>\n",
       "      <td>0</td>\n",
       "    </tr>\n",
       "    <tr>\n",
       "      <th>41184</th>\n",
       "      <td>5.567764</td>\n",
       "      <td>1.414214</td>\n",
       "      <td>999</td>\n",
       "      <td>0.000000</td>\n",
       "      <td>1.1</td>\n",
       "      <td>93.994</td>\n",
       "      <td>-36.4</td>\n",
       "      <td>4.860</td>\n",
       "      <td>26946481.00</td>\n",
       "      <td>0</td>\n",
       "    </tr>\n",
       "    <tr>\n",
       "      <th>41185</th>\n",
       "      <td>6.480741</td>\n",
       "      <td>1.732051</td>\n",
       "      <td>999</td>\n",
       "      <td>0.000000</td>\n",
       "      <td>1.1</td>\n",
       "      <td>93.994</td>\n",
       "      <td>-36.4</td>\n",
       "      <td>4.857</td>\n",
       "      <td>26946481.00</td>\n",
       "      <td>0</td>\n",
       "    </tr>\n",
       "    <tr>\n",
       "      <th>41187</th>\n",
       "      <td>5.000000</td>\n",
       "      <td>2.000000</td>\n",
       "      <td>999</td>\n",
       "      <td>0.000000</td>\n",
       "      <td>1.1</td>\n",
       "      <td>93.994</td>\n",
       "      <td>-36.4</td>\n",
       "      <td>4.859</td>\n",
       "      <td>26946481.00</td>\n",
       "      <td>0</td>\n",
       "    </tr>\n",
       "  </tbody>\n",
       "</table>\n",
       "<p>40740 rows × 10 columns</p>\n",
       "</div>"
      ],
      "text/plain": [
       "            age  campaign  pdays  previous  emp_var_rate  cons_price_idx  \\\n",
       "0      6.633250  1.000000    999  0.000000           1.4          93.444   \n",
       "1      7.280110  1.000000    999  0.000000          -0.1          93.200   \n",
       "2      5.291503  1.732051      6  1.414214          -1.7          94.055   \n",
       "3      6.244998  1.414214    999  0.000000          -1.8          93.075   \n",
       "4      7.416198  1.000000      3  1.000000          -2.9          92.201   \n",
       "...         ...       ...    ...       ...           ...             ...   \n",
       "41182  4.898979  2.000000    999  1.000000          -1.8          92.893   \n",
       "41183  7.681146  1.000000    999  0.000000           1.4          94.465   \n",
       "41184  5.567764  1.414214    999  0.000000           1.1          93.994   \n",
       "41185  6.480741  1.732051    999  0.000000           1.1          93.994   \n",
       "41187  5.000000  2.000000    999  0.000000           1.1          93.994   \n",
       "\n",
       "       cons_conf_idx  euribor3m  nr_employed  y  \n",
       "0              -36.1      4.963  27333029.61  0  \n",
       "1              -42.0      4.021  26996337.64  0  \n",
       "2              -39.8      0.729  24916070.56  1  \n",
       "3              -47.1      1.405  26000820.81  0  \n",
       "4              -31.4      0.869  25767806.44  1  \n",
       "...              ...        ...          ... ..  \n",
       "41182          -46.2      1.266  26000820.81  0  \n",
       "41183          -41.8      4.866  27333029.61  0  \n",
       "41184          -36.4      4.860  26946481.00  0  \n",
       "41185          -36.4      4.857  26946481.00  0  \n",
       "41187          -36.4      4.859  26946481.00  0  \n",
       "\n",
       "[40740 rows x 10 columns]"
      ]
     },
     "execution_count": 31,
     "metadata": {},
     "output_type": "execute_result"
    }
   ],
   "source": [
    "df_continous"
   ]
  },
  {
   "cell_type": "markdown",
   "metadata": {},
   "source": [
    "<h1>Feature coding techniques</h1>"
   ]
  },
  {
   "cell_type": "code",
   "execution_count": 32,
   "metadata": {},
   "outputs": [
    {
     "data": {
      "text/plain": [
       "job          12\n",
       "marital       4\n",
       "education     8\n",
       "default       3\n",
       "housing       3\n",
       "loan          3\n",
       "contact       2\n",
       "month        10\n",
       "poutcome      3\n",
       "dtype: int64"
      ]
     },
     "execution_count": 32,
     "metadata": {},
     "output_type": "execute_result"
    }
   ],
   "source": [
    "df_categorical.nunique()"
   ]
  },
  {
   "cell_type": "markdown",
   "metadata": {},
   "source": [
    "<h5>Apply label encoding for contact</h5>"
   ]
  },
  {
   "cell_type": "code",
   "execution_count": 33,
   "metadata": {},
   "outputs": [
    {
     "data": {
      "text/html": [
       "<div>\n",
       "<style scoped>\n",
       "    .dataframe tbody tr th:only-of-type {\n",
       "        vertical-align: middle;\n",
       "    }\n",
       "\n",
       "    .dataframe tbody tr th {\n",
       "        vertical-align: top;\n",
       "    }\n",
       "\n",
       "    .dataframe thead th {\n",
       "        text-align: right;\n",
       "    }\n",
       "</style>\n",
       "<table border=\"1\" class=\"dataframe\">\n",
       "  <thead>\n",
       "    <tr style=\"text-align: right;\">\n",
       "      <th></th>\n",
       "      <th>contact</th>\n",
       "    </tr>\n",
       "  </thead>\n",
       "  <tbody>\n",
       "    <tr>\n",
       "      <th>0</th>\n",
       "      <td>0</td>\n",
       "    </tr>\n",
       "    <tr>\n",
       "      <th>1</th>\n",
       "      <td>0</td>\n",
       "    </tr>\n",
       "    <tr>\n",
       "      <th>2</th>\n",
       "      <td>0</td>\n",
       "    </tr>\n",
       "    <tr>\n",
       "      <th>3</th>\n",
       "      <td>0</td>\n",
       "    </tr>\n",
       "    <tr>\n",
       "      <th>4</th>\n",
       "      <td>0</td>\n",
       "    </tr>\n",
       "  </tbody>\n",
       "</table>\n",
       "</div>"
      ],
      "text/plain": [
       "   contact\n",
       "0        0\n",
       "1        0\n",
       "2        0\n",
       "3        0\n",
       "4        0"
      ]
     },
     "execution_count": 33,
     "metadata": {},
     "output_type": "execute_result"
    }
   ],
   "source": [
    "df_contact_labled = pd.DataFrame(df_categorical['contact'],columns = ['contact'])\n",
    "df_contact_labled['contact'] = df_categorical['contact'].astype('category').cat.codes\n",
    "df_contact_labled.head(5)"
   ]
  },
  {
   "cell_type": "markdown",
   "metadata": {},
   "source": [
    "<h5>Apply one-hot encoding for job,material,education,default,housing,loan,month,poutcome</h5>"
   ]
  },
  {
   "cell_type": "code",
   "execution_count": 34,
   "metadata": {},
   "outputs": [],
   "source": [
    "from sklearn.preprocessing import OneHotEncoder\n",
    "\n",
    "# creating instance of one-hot-encoder\n",
    "enc = OneHotEncoder(handle_unknown='ignore')\n",
    "\n",
    "cols = ['job','marital','education','default','housing','loan','month','poutcome']\n",
    "\n",
    "# We fitting only training data\n",
    "enc.fit(df_categorical[cols])\n",
    "colnames = enc.get_feature_names()\n",
    "\n",
    "df_onehot_encoded = pd.DataFrame(enc.transform(df_categorical[cols]).toarray(),columns = colnames)\n",
    "\n",
    "df_labeled= pd.concat([df_contact_labled,df_onehot_encoded], axis=1, join=\"inner\")"
   ]
  },
  {
   "cell_type": "code",
   "execution_count": 35,
   "metadata": {
    "scrolled": true
   },
   "outputs": [
    {
     "data": {
      "text/html": [
       "<div>\n",
       "<style scoped>\n",
       "    .dataframe tbody tr th:only-of-type {\n",
       "        vertical-align: middle;\n",
       "    }\n",
       "\n",
       "    .dataframe tbody tr th {\n",
       "        vertical-align: top;\n",
       "    }\n",
       "\n",
       "    .dataframe thead th {\n",
       "        text-align: right;\n",
       "    }\n",
       "</style>\n",
       "<table border=\"1\" class=\"dataframe\">\n",
       "  <thead>\n",
       "    <tr style=\"text-align: right;\">\n",
       "      <th></th>\n",
       "      <th>contact</th>\n",
       "      <th>x0_admin.</th>\n",
       "      <th>x0_blue-collar</th>\n",
       "      <th>x0_entrepreneur</th>\n",
       "      <th>x0_housemaid</th>\n",
       "      <th>x0_management</th>\n",
       "      <th>x0_retired</th>\n",
       "      <th>x0_self-employed</th>\n",
       "      <th>x0_services</th>\n",
       "      <th>x0_student</th>\n",
       "      <th>...</th>\n",
       "      <th>x6_jul</th>\n",
       "      <th>x6_jun</th>\n",
       "      <th>x6_mar</th>\n",
       "      <th>x6_may</th>\n",
       "      <th>x6_nov</th>\n",
       "      <th>x6_oct</th>\n",
       "      <th>x6_sep</th>\n",
       "      <th>x7_failure</th>\n",
       "      <th>x7_nonexistent</th>\n",
       "      <th>x7_success</th>\n",
       "    </tr>\n",
       "  </thead>\n",
       "  <tbody>\n",
       "    <tr>\n",
       "      <th>0</th>\n",
       "      <td>0</td>\n",
       "      <td>0.0</td>\n",
       "      <td>1.0</td>\n",
       "      <td>0.0</td>\n",
       "      <td>0.0</td>\n",
       "      <td>0.0</td>\n",
       "      <td>0.0</td>\n",
       "      <td>0.0</td>\n",
       "      <td>0.0</td>\n",
       "      <td>0.0</td>\n",
       "      <td>...</td>\n",
       "      <td>0.0</td>\n",
       "      <td>0.0</td>\n",
       "      <td>0.0</td>\n",
       "      <td>0.0</td>\n",
       "      <td>0.0</td>\n",
       "      <td>0.0</td>\n",
       "      <td>0.0</td>\n",
       "      <td>0.0</td>\n",
       "      <td>1.0</td>\n",
       "      <td>0.0</td>\n",
       "    </tr>\n",
       "    <tr>\n",
       "      <th>1</th>\n",
       "      <td>0</td>\n",
       "      <td>0.0</td>\n",
       "      <td>0.0</td>\n",
       "      <td>0.0</td>\n",
       "      <td>0.0</td>\n",
       "      <td>0.0</td>\n",
       "      <td>0.0</td>\n",
       "      <td>0.0</td>\n",
       "      <td>0.0</td>\n",
       "      <td>0.0</td>\n",
       "      <td>...</td>\n",
       "      <td>0.0</td>\n",
       "      <td>0.0</td>\n",
       "      <td>0.0</td>\n",
       "      <td>0.0</td>\n",
       "      <td>1.0</td>\n",
       "      <td>0.0</td>\n",
       "      <td>0.0</td>\n",
       "      <td>0.0</td>\n",
       "      <td>1.0</td>\n",
       "      <td>0.0</td>\n",
       "    </tr>\n",
       "    <tr>\n",
       "      <th>2</th>\n",
       "      <td>0</td>\n",
       "      <td>0.0</td>\n",
       "      <td>0.0</td>\n",
       "      <td>0.0</td>\n",
       "      <td>0.0</td>\n",
       "      <td>1.0</td>\n",
       "      <td>0.0</td>\n",
       "      <td>0.0</td>\n",
       "      <td>0.0</td>\n",
       "      <td>0.0</td>\n",
       "      <td>...</td>\n",
       "      <td>0.0</td>\n",
       "      <td>1.0</td>\n",
       "      <td>0.0</td>\n",
       "      <td>0.0</td>\n",
       "      <td>0.0</td>\n",
       "      <td>0.0</td>\n",
       "      <td>0.0</td>\n",
       "      <td>0.0</td>\n",
       "      <td>0.0</td>\n",
       "      <td>1.0</td>\n",
       "    </tr>\n",
       "    <tr>\n",
       "      <th>3</th>\n",
       "      <td>0</td>\n",
       "      <td>0.0</td>\n",
       "      <td>0.0</td>\n",
       "      <td>0.0</td>\n",
       "      <td>0.0</td>\n",
       "      <td>0.0</td>\n",
       "      <td>0.0</td>\n",
       "      <td>0.0</td>\n",
       "      <td>1.0</td>\n",
       "      <td>0.0</td>\n",
       "      <td>...</td>\n",
       "      <td>0.0</td>\n",
       "      <td>0.0</td>\n",
       "      <td>0.0</td>\n",
       "      <td>0.0</td>\n",
       "      <td>0.0</td>\n",
       "      <td>0.0</td>\n",
       "      <td>0.0</td>\n",
       "      <td>0.0</td>\n",
       "      <td>1.0</td>\n",
       "      <td>0.0</td>\n",
       "    </tr>\n",
       "    <tr>\n",
       "      <th>4</th>\n",
       "      <td>0</td>\n",
       "      <td>0.0</td>\n",
       "      <td>0.0</td>\n",
       "      <td>0.0</td>\n",
       "      <td>0.0</td>\n",
       "      <td>0.0</td>\n",
       "      <td>1.0</td>\n",
       "      <td>0.0</td>\n",
       "      <td>0.0</td>\n",
       "      <td>0.0</td>\n",
       "      <td>...</td>\n",
       "      <td>0.0</td>\n",
       "      <td>0.0</td>\n",
       "      <td>0.0</td>\n",
       "      <td>0.0</td>\n",
       "      <td>0.0</td>\n",
       "      <td>0.0</td>\n",
       "      <td>0.0</td>\n",
       "      <td>0.0</td>\n",
       "      <td>0.0</td>\n",
       "      <td>1.0</td>\n",
       "    </tr>\n",
       "  </tbody>\n",
       "</table>\n",
       "<p>5 rows × 47 columns</p>\n",
       "</div>"
      ],
      "text/plain": [
       "   contact  x0_admin.  x0_blue-collar  x0_entrepreneur  x0_housemaid  \\\n",
       "0        0        0.0             1.0              0.0           0.0   \n",
       "1        0        0.0             0.0              0.0           0.0   \n",
       "2        0        0.0             0.0              0.0           0.0   \n",
       "3        0        0.0             0.0              0.0           0.0   \n",
       "4        0        0.0             0.0              0.0           0.0   \n",
       "\n",
       "   x0_management  x0_retired  x0_self-employed  x0_services  x0_student  ...  \\\n",
       "0            0.0         0.0               0.0          0.0         0.0  ...   \n",
       "1            0.0         0.0               0.0          0.0         0.0  ...   \n",
       "2            1.0         0.0               0.0          0.0         0.0  ...   \n",
       "3            0.0         0.0               0.0          1.0         0.0  ...   \n",
       "4            0.0         1.0               0.0          0.0         0.0  ...   \n",
       "\n",
       "   x6_jul  x6_jun  x6_mar  x6_may  x6_nov  x6_oct  x6_sep  x7_failure  \\\n",
       "0     0.0     0.0     0.0     0.0     0.0     0.0     0.0         0.0   \n",
       "1     0.0     0.0     0.0     0.0     1.0     0.0     0.0         0.0   \n",
       "2     0.0     1.0     0.0     0.0     0.0     0.0     0.0         0.0   \n",
       "3     0.0     0.0     0.0     0.0     0.0     0.0     0.0         0.0   \n",
       "4     0.0     0.0     0.0     0.0     0.0     0.0     0.0         0.0   \n",
       "\n",
       "   x7_nonexistent  x7_success  \n",
       "0             1.0         0.0  \n",
       "1             1.0         0.0  \n",
       "2             0.0         1.0  \n",
       "3             1.0         0.0  \n",
       "4             0.0         1.0  \n",
       "\n",
       "[5 rows x 47 columns]"
      ]
     },
     "execution_count": 35,
     "metadata": {},
     "output_type": "execute_result"
    }
   ],
   "source": [
    "df_labeled.head()"
   ]
  },
  {
   "cell_type": "markdown",
   "metadata": {},
   "source": [
    "<h1>Scale and/or standardized the features</h1>"
   ]
  },
  {
   "cell_type": "markdown",
   "metadata": {},
   "source": [
    "<h5><br/>Seperate Dicrete data before scaling<br/></h5>"
   ]
  },
  {
   "cell_type": "code",
   "execution_count": 36,
   "metadata": {},
   "outputs": [
    {
     "data": {
      "text/html": [
       "<div>\n",
       "<style scoped>\n",
       "    .dataframe tbody tr th:only-of-type {\n",
       "        vertical-align: middle;\n",
       "    }\n",
       "\n",
       "    .dataframe tbody tr th {\n",
       "        vertical-align: top;\n",
       "    }\n",
       "\n",
       "    .dataframe thead th {\n",
       "        text-align: right;\n",
       "    }\n",
       "</style>\n",
       "<table border=\"1\" class=\"dataframe\">\n",
       "  <thead>\n",
       "    <tr style=\"text-align: right;\">\n",
       "      <th></th>\n",
       "      <th>age</th>\n",
       "      <th>y</th>\n",
       "    </tr>\n",
       "  </thead>\n",
       "  <tbody>\n",
       "    <tr>\n",
       "      <th>0</th>\n",
       "      <td>6.633250</td>\n",
       "      <td>0</td>\n",
       "    </tr>\n",
       "    <tr>\n",
       "      <th>1</th>\n",
       "      <td>7.280110</td>\n",
       "      <td>0</td>\n",
       "    </tr>\n",
       "    <tr>\n",
       "      <th>2</th>\n",
       "      <td>5.291503</td>\n",
       "      <td>1</td>\n",
       "    </tr>\n",
       "    <tr>\n",
       "      <th>3</th>\n",
       "      <td>6.244998</td>\n",
       "      <td>0</td>\n",
       "    </tr>\n",
       "    <tr>\n",
       "      <th>4</th>\n",
       "      <td>7.416198</td>\n",
       "      <td>1</td>\n",
       "    </tr>\n",
       "    <tr>\n",
       "      <th>...</th>\n",
       "      <td>...</td>\n",
       "      <td>...</td>\n",
       "    </tr>\n",
       "    <tr>\n",
       "      <th>41182</th>\n",
       "      <td>4.898979</td>\n",
       "      <td>0</td>\n",
       "    </tr>\n",
       "    <tr>\n",
       "      <th>41183</th>\n",
       "      <td>7.681146</td>\n",
       "      <td>0</td>\n",
       "    </tr>\n",
       "    <tr>\n",
       "      <th>41184</th>\n",
       "      <td>5.567764</td>\n",
       "      <td>0</td>\n",
       "    </tr>\n",
       "    <tr>\n",
       "      <th>41185</th>\n",
       "      <td>6.480741</td>\n",
       "      <td>0</td>\n",
       "    </tr>\n",
       "    <tr>\n",
       "      <th>41187</th>\n",
       "      <td>5.000000</td>\n",
       "      <td>0</td>\n",
       "    </tr>\n",
       "  </tbody>\n",
       "</table>\n",
       "<p>40740 rows × 2 columns</p>\n",
       "</div>"
      ],
      "text/plain": [
       "            age  y\n",
       "0      6.633250  0\n",
       "1      7.280110  0\n",
       "2      5.291503  1\n",
       "3      6.244998  0\n",
       "4      7.416198  1\n",
       "...         ... ..\n",
       "41182  4.898979  0\n",
       "41183  7.681146  0\n",
       "41184  5.567764  0\n",
       "41185  6.480741  0\n",
       "41187  5.000000  0\n",
       "\n",
       "[40740 rows x 2 columns]"
      ]
     },
     "execution_count": 36,
     "metadata": {},
     "output_type": "execute_result"
    }
   ],
   "source": [
    "df_discrete = df_continous[['age', 'y']]\n",
    "df_discrete"
   ]
  },
  {
   "cell_type": "markdown",
   "metadata": {},
   "source": [
    "<h2>Standerlize</h2>"
   ]
  },
  {
   "cell_type": "code",
   "execution_count": 37,
   "metadata": {},
   "outputs": [
    {
     "data": {
      "text/html": [
       "<div>\n",
       "<style scoped>\n",
       "    .dataframe tbody tr th:only-of-type {\n",
       "        vertical-align: middle;\n",
       "    }\n",
       "\n",
       "    .dataframe tbody tr th {\n",
       "        vertical-align: top;\n",
       "    }\n",
       "\n",
       "    .dataframe thead th {\n",
       "        text-align: right;\n",
       "    }\n",
       "</style>\n",
       "<table border=\"1\" class=\"dataframe\">\n",
       "  <thead>\n",
       "    <tr style=\"text-align: right;\">\n",
       "      <th></th>\n",
       "      <th>age</th>\n",
       "      <th>y</th>\n",
       "      <th>campaign</th>\n",
       "      <th>pdays</th>\n",
       "      <th>previous</th>\n",
       "      <th>emp_var_rate</th>\n",
       "      <th>cons_price_idx</th>\n",
       "      <th>cons_conf_idx</th>\n",
       "      <th>euribor3m</th>\n",
       "      <th>nr_employed</th>\n",
       "    </tr>\n",
       "  </thead>\n",
       "  <tbody>\n",
       "    <tr>\n",
       "      <th>0</th>\n",
       "      <td>6.63325</td>\n",
       "      <td>0</td>\n",
       "      <td>-0.78043</td>\n",
       "      <td>0.191417</td>\n",
       "      <td>-0.383474</td>\n",
       "      <td>0.833081</td>\n",
       "      <td>-0.253281</td>\n",
       "      <td>1.028119</td>\n",
       "      <td>0.762898</td>\n",
       "      <td>0.842105</td>\n",
       "    </tr>\n",
       "    <tr>\n",
       "      <th>1</th>\n",
       "      <td>7.28011</td>\n",
       "      <td>0</td>\n",
       "      <td>-0.78043</td>\n",
       "      <td>0.191417</td>\n",
       "      <td>-0.383474</td>\n",
       "      <td>-0.143234</td>\n",
       "      <td>-0.681817</td>\n",
       "      <td>-0.304475</td>\n",
       "      <td>0.214342</td>\n",
       "      <td>0.379417</td>\n",
       "    </tr>\n",
       "  </tbody>\n",
       "</table>\n",
       "</div>"
      ],
      "text/plain": [
       "       age  y  campaign     pdays  previous  emp_var_rate  cons_price_idx  \\\n",
       "0  6.63325  0  -0.78043  0.191417 -0.383474      0.833081       -0.253281   \n",
       "1  7.28011  0  -0.78043  0.191417 -0.383474     -0.143234       -0.681817   \n",
       "\n",
       "   cons_conf_idx  euribor3m  nr_employed  \n",
       "0       1.028119   0.762898     0.842105  \n",
       "1      -0.304475   0.214342     0.379417  "
      ]
     },
     "execution_count": 37,
     "metadata": {},
     "output_type": "execute_result"
    }
   ],
   "source": [
    "from sklearn.preprocessing import StandardScaler\n",
    "\n",
    "df_to_standerlize=df_continous.drop(['age','y'],1)\n",
    "\n",
    "\n",
    "# Removing Categorical Features before the feature scaling\n",
    "columns = df_to_standerlize.columns\n",
    "# Continous col\n",
    "columns_cont = np.delete(columns,np.s_[9:])\n",
    "# Categorical col\n",
    "categorical_data = np.delete(columns,np.s_[0:9])\n",
    "\n",
    "# Applying Standardization \n",
    "# Init StandardScaler\n",
    "scaler = StandardScaler() \n",
    "\n",
    "#Transformation of training dataset features\n",
    "standerlize_except = pd.DataFrame(df_to_standerlize, columns = columns)\n",
    "scaler.fit(standerlize_except)\n",
    "df_temp=pd.DataFrame(scaler.transform(standerlize_except), columns = columns)\n",
    "\n",
    "df_standerlized=pd.concat([df_discrete,df_temp],axis=1,join='inner')\n",
    "\n",
    "\n",
    "df_standerlized.head(2)"
   ]
  },
  {
   "cell_type": "code",
   "execution_count": 38,
   "metadata": {},
   "outputs": [
    {
     "data": {
      "text/html": [
       "<div>\n",
       "<style scoped>\n",
       "    .dataframe tbody tr th:only-of-type {\n",
       "        vertical-align: middle;\n",
       "    }\n",
       "\n",
       "    .dataframe tbody tr th {\n",
       "        vertical-align: top;\n",
       "    }\n",
       "\n",
       "    .dataframe thead th {\n",
       "        text-align: right;\n",
       "    }\n",
       "</style>\n",
       "<table border=\"1\" class=\"dataframe\">\n",
       "  <thead>\n",
       "    <tr style=\"text-align: right;\">\n",
       "      <th></th>\n",
       "      <th>age</th>\n",
       "      <th>y</th>\n",
       "      <th>campaign</th>\n",
       "      <th>pdays</th>\n",
       "      <th>previous</th>\n",
       "      <th>emp_var_rate</th>\n",
       "      <th>cons_price_idx</th>\n",
       "      <th>cons_conf_idx</th>\n",
       "      <th>euribor3m</th>\n",
       "      <th>nr_employed</th>\n",
       "    </tr>\n",
       "  </thead>\n",
       "  <tbody>\n",
       "    <tr>\n",
       "      <th>0</th>\n",
       "      <td>6.633250</td>\n",
       "      <td>0</td>\n",
       "      <td>-0.780430</td>\n",
       "      <td>0.191417</td>\n",
       "      <td>-0.383474</td>\n",
       "      <td>0.833081</td>\n",
       "      <td>-0.253281</td>\n",
       "      <td>1.028119</td>\n",
       "      <td>0.762898</td>\n",
       "      <td>0.842105</td>\n",
       "    </tr>\n",
       "    <tr>\n",
       "      <th>1</th>\n",
       "      <td>7.280110</td>\n",
       "      <td>0</td>\n",
       "      <td>-0.780430</td>\n",
       "      <td>0.191417</td>\n",
       "      <td>-0.383474</td>\n",
       "      <td>-0.143234</td>\n",
       "      <td>-0.681817</td>\n",
       "      <td>-0.304475</td>\n",
       "      <td>0.214342</td>\n",
       "      <td>0.379417</td>\n",
       "    </tr>\n",
       "    <tr>\n",
       "      <th>2</th>\n",
       "      <td>5.291503</td>\n",
       "      <td>1</td>\n",
       "      <td>0.404871</td>\n",
       "      <td>-5.224430</td>\n",
       "      <td>3.297172</td>\n",
       "      <td>-1.184638</td>\n",
       "      <td>0.819815</td>\n",
       "      <td>0.192424</td>\n",
       "      <td>-1.702691</td>\n",
       "      <td>-2.479326</td>\n",
       "    </tr>\n",
       "    <tr>\n",
       "      <th>3</th>\n",
       "      <td>6.244998</td>\n",
       "      <td>0</td>\n",
       "      <td>-0.109756</td>\n",
       "      <td>0.191417</td>\n",
       "      <td>-0.383474</td>\n",
       "      <td>-1.249725</td>\n",
       "      <td>-0.901354</td>\n",
       "      <td>-1.456379</td>\n",
       "      <td>-1.309035</td>\n",
       "      <td>-0.988642</td>\n",
       "    </tr>\n",
       "    <tr>\n",
       "      <th>4</th>\n",
       "      <td>7.416198</td>\n",
       "      <td>1</td>\n",
       "      <td>-0.780430</td>\n",
       "      <td>-5.240793</td>\n",
       "      <td>2.219136</td>\n",
       "      <td>-1.965690</td>\n",
       "      <td>-2.436356</td>\n",
       "      <td>2.089676</td>\n",
       "      <td>-1.621164</td>\n",
       "      <td>-1.308855</td>\n",
       "    </tr>\n",
       "    <tr>\n",
       "      <th>...</th>\n",
       "      <td>...</td>\n",
       "      <td>...</td>\n",
       "      <td>...</td>\n",
       "      <td>...</td>\n",
       "      <td>...</td>\n",
       "      <td>...</td>\n",
       "      <td>...</td>\n",
       "      <td>...</td>\n",
       "      <td>...</td>\n",
       "      <td>...</td>\n",
       "    </tr>\n",
       "    <tr>\n",
       "      <th>40735</th>\n",
       "      <td>5.477226</td>\n",
       "      <td>0</td>\n",
       "      <td>0.838721</td>\n",
       "      <td>0.191417</td>\n",
       "      <td>2.219136</td>\n",
       "      <td>-1.249725</td>\n",
       "      <td>-1.221000</td>\n",
       "      <td>-1.253102</td>\n",
       "      <td>-1.389979</td>\n",
       "      <td>-0.988642</td>\n",
       "    </tr>\n",
       "    <tr>\n",
       "      <th>40736</th>\n",
       "      <td>7.071068</td>\n",
       "      <td>0</td>\n",
       "      <td>-0.780430</td>\n",
       "      <td>0.191417</td>\n",
       "      <td>-0.383474</td>\n",
       "      <td>0.833081</td>\n",
       "      <td>1.539896</td>\n",
       "      <td>-0.259303</td>\n",
       "      <td>0.706412</td>\n",
       "      <td>0.842105</td>\n",
       "    </tr>\n",
       "    <tr>\n",
       "      <th>40737</th>\n",
       "      <td>5.477226</td>\n",
       "      <td>1</td>\n",
       "      <td>-0.109756</td>\n",
       "      <td>0.191417</td>\n",
       "      <td>-0.383474</td>\n",
       "      <td>0.637818</td>\n",
       "      <td>0.712681</td>\n",
       "      <td>0.960360</td>\n",
       "      <td>0.702918</td>\n",
       "      <td>0.310903</td>\n",
       "    </tr>\n",
       "    <tr>\n",
       "      <th>40738</th>\n",
       "      <td>6.164414</td>\n",
       "      <td>0</td>\n",
       "      <td>0.404871</td>\n",
       "      <td>0.191417</td>\n",
       "      <td>-0.383474</td>\n",
       "      <td>0.637818</td>\n",
       "      <td>0.712681</td>\n",
       "      <td>0.960360</td>\n",
       "      <td>0.701171</td>\n",
       "      <td>0.310903</td>\n",
       "    </tr>\n",
       "    <tr>\n",
       "      <th>40739</th>\n",
       "      <td>6.000000</td>\n",
       "      <td>0</td>\n",
       "      <td>0.838721</td>\n",
       "      <td>0.191417</td>\n",
       "      <td>-0.383474</td>\n",
       "      <td>0.637818</td>\n",
       "      <td>0.712681</td>\n",
       "      <td>0.960360</td>\n",
       "      <td>0.702336</td>\n",
       "      <td>0.310903</td>\n",
       "    </tr>\n",
       "  </tbody>\n",
       "</table>\n",
       "<p>40296 rows × 10 columns</p>\n",
       "</div>"
      ],
      "text/plain": [
       "            age  y  campaign     pdays  previous  emp_var_rate  \\\n",
       "0      6.633250  0 -0.780430  0.191417 -0.383474      0.833081   \n",
       "1      7.280110  0 -0.780430  0.191417 -0.383474     -0.143234   \n",
       "2      5.291503  1  0.404871 -5.224430  3.297172     -1.184638   \n",
       "3      6.244998  0 -0.109756  0.191417 -0.383474     -1.249725   \n",
       "4      7.416198  1 -0.780430 -5.240793  2.219136     -1.965690   \n",
       "...         ... ..       ...       ...       ...           ...   \n",
       "40735  5.477226  0  0.838721  0.191417  2.219136     -1.249725   \n",
       "40736  7.071068  0 -0.780430  0.191417 -0.383474      0.833081   \n",
       "40737  5.477226  1 -0.109756  0.191417 -0.383474      0.637818   \n",
       "40738  6.164414  0  0.404871  0.191417 -0.383474      0.637818   \n",
       "40739  6.000000  0  0.838721  0.191417 -0.383474      0.637818   \n",
       "\n",
       "       cons_price_idx  cons_conf_idx  euribor3m  nr_employed  \n",
       "0           -0.253281       1.028119   0.762898     0.842105  \n",
       "1           -0.681817      -0.304475   0.214342     0.379417  \n",
       "2            0.819815       0.192424  -1.702691    -2.479326  \n",
       "3           -0.901354      -1.456379  -1.309035    -0.988642  \n",
       "4           -2.436356       2.089676  -1.621164    -1.308855  \n",
       "...               ...            ...        ...          ...  \n",
       "40735       -1.221000      -1.253102  -1.389979    -0.988642  \n",
       "40736        1.539896      -0.259303   0.706412     0.842105  \n",
       "40737        0.712681       0.960360   0.702918     0.310903  \n",
       "40738        0.712681       0.960360   0.701171     0.310903  \n",
       "40739        0.712681       0.960360   0.702336     0.310903  \n",
       "\n",
       "[40296 rows x 10 columns]"
      ]
     },
     "execution_count": 38,
     "metadata": {},
     "output_type": "execute_result"
    }
   ],
   "source": [
    "df_standerlized"
   ]
  },
  {
   "cell_type": "markdown",
   "metadata": {},
   "source": [
    "<h3>Before Standerlize</h3>"
   ]
  },
  {
   "cell_type": "code",
   "execution_count": 39,
   "metadata": {},
   "outputs": [
    {
     "data": {
      "text/plain": [
       "array([[<AxesSubplot:title={'center':'campaign'}>,\n",
       "        <AxesSubplot:title={'center':'pdays'}>,\n",
       "        <AxesSubplot:title={'center':'previous'}>,\n",
       "        <AxesSubplot:title={'center':'emp_var_rate'}>],\n",
       "       [<AxesSubplot:title={'center':'cons_price_idx'}>,\n",
       "        <AxesSubplot:title={'center':'cons_conf_idx'}>,\n",
       "        <AxesSubplot:title={'center':'euribor3m'}>,\n",
       "        <AxesSubplot:title={'center':'nr_employed'}>],\n",
       "       [<AxesSubplot:>, <AxesSubplot:>, <AxesSubplot:>, <AxesSubplot:>]],\n",
       "      dtype=object)"
      ]
     },
     "execution_count": 39,
     "metadata": {},
     "output_type": "execute_result"
    },
    {
     "data": {
      "image/png": "[encoded data removed]",
      "text/plain": [
       "<Figure size 720x720 with 12 Axes>"
      ]
     },
     "metadata": {
      "needs_background": "light"
     },
     "output_type": "display_data"
    }
   ],
   "source": [
    "df_to_standerlize.hist(layout=(3,4), figsize=(10,10))"
   ]
  },
  {
   "cell_type": "markdown",
   "metadata": {},
   "source": [
    "<h3>After Standerlize</h3>"
   ]
  },
  {
   "cell_type": "code",
   "execution_count": 40,
   "metadata": {},
   "outputs": [
    {
     "data": {
      "text/plain": [
       "array([[<AxesSubplot:title={'center':'age'}>,\n",
       "        <AxesSubplot:title={'center':'y'}>,\n",
       "        <AxesSubplot:title={'center':'campaign'}>,\n",
       "        <AxesSubplot:title={'center':'pdays'}>],\n",
       "       [<AxesSubplot:title={'center':'previous'}>,\n",
       "        <AxesSubplot:title={'center':'emp_var_rate'}>,\n",
       "        <AxesSubplot:title={'center':'cons_price_idx'}>,\n",
       "        <AxesSubplot:title={'center':'cons_conf_idx'}>],\n",
       "       [<AxesSubplot:title={'center':'euribor3m'}>,\n",
       "        <AxesSubplot:title={'center':'nr_employed'}>, <AxesSubplot:>,\n",
       "        <AxesSubplot:>]], dtype=object)"
      ]
     },
     "execution_count": 40,
     "metadata": {},
     "output_type": "execute_result"
    },
    {
     "data": {
      "image/png": "[encoded data removed]",
      "text/plain": [
       "<Figure size 720x720 with 12 Axes>"
      ]
     },
     "metadata": {
      "needs_background": "light"
     },
     "output_type": "display_data"
    }
   ],
   "source": [
    "df_standerlized.hist(layout=(3,4), figsize=(10,10))"
   ]
  },
  {
   "cell_type": "markdown",
   "metadata": {},
   "source": [
    "<h1>Joining continous features and categorical features</h1>"
   ]
  },
  {
   "cell_type": "code",
   "execution_count": 41,
   "metadata": {},
   "outputs": [
    {
     "data": {
      "text/html": [
       "<div>\n",
       "<style scoped>\n",
       "    .dataframe tbody tr th:only-of-type {\n",
       "        vertical-align: middle;\n",
       "    }\n",
       "\n",
       "    .dataframe tbody tr th {\n",
       "        vertical-align: top;\n",
       "    }\n",
       "\n",
       "    .dataframe thead th {\n",
       "        text-align: right;\n",
       "    }\n",
       "</style>\n",
       "<table border=\"1\" class=\"dataframe\">\n",
       "  <thead>\n",
       "    <tr style=\"text-align: right;\">\n",
       "      <th></th>\n",
       "      <th>age</th>\n",
       "      <th>y</th>\n",
       "      <th>campaign</th>\n",
       "      <th>pdays</th>\n",
       "      <th>previous</th>\n",
       "      <th>emp_var_rate</th>\n",
       "      <th>cons_price_idx</th>\n",
       "      <th>cons_conf_idx</th>\n",
       "      <th>euribor3m</th>\n",
       "      <th>nr_employed</th>\n",
       "      <th>...</th>\n",
       "      <th>x6_jul</th>\n",
       "      <th>x6_jun</th>\n",
       "      <th>x6_mar</th>\n",
       "      <th>x6_may</th>\n",
       "      <th>x6_nov</th>\n",
       "      <th>x6_oct</th>\n",
       "      <th>x6_sep</th>\n",
       "      <th>x7_failure</th>\n",
       "      <th>x7_nonexistent</th>\n",
       "      <th>x7_success</th>\n",
       "    </tr>\n",
       "  </thead>\n",
       "  <tbody>\n",
       "    <tr>\n",
       "      <th>0</th>\n",
       "      <td>6.633250</td>\n",
       "      <td>0</td>\n",
       "      <td>-0.780430</td>\n",
       "      <td>0.191417</td>\n",
       "      <td>-0.383474</td>\n",
       "      <td>0.833081</td>\n",
       "      <td>-0.253281</td>\n",
       "      <td>1.028119</td>\n",
       "      <td>0.762898</td>\n",
       "      <td>0.842105</td>\n",
       "      <td>...</td>\n",
       "      <td>0.0</td>\n",
       "      <td>0.0</td>\n",
       "      <td>0.0</td>\n",
       "      <td>0.0</td>\n",
       "      <td>0.0</td>\n",
       "      <td>0.0</td>\n",
       "      <td>0.0</td>\n",
       "      <td>0.0</td>\n",
       "      <td>1.0</td>\n",
       "      <td>0.0</td>\n",
       "    </tr>\n",
       "    <tr>\n",
       "      <th>1</th>\n",
       "      <td>7.280110</td>\n",
       "      <td>0</td>\n",
       "      <td>-0.780430</td>\n",
       "      <td>0.191417</td>\n",
       "      <td>-0.383474</td>\n",
       "      <td>-0.143234</td>\n",
       "      <td>-0.681817</td>\n",
       "      <td>-0.304475</td>\n",
       "      <td>0.214342</td>\n",
       "      <td>0.379417</td>\n",
       "      <td>...</td>\n",
       "      <td>0.0</td>\n",
       "      <td>0.0</td>\n",
       "      <td>0.0</td>\n",
       "      <td>0.0</td>\n",
       "      <td>1.0</td>\n",
       "      <td>0.0</td>\n",
       "      <td>0.0</td>\n",
       "      <td>0.0</td>\n",
       "      <td>1.0</td>\n",
       "      <td>0.0</td>\n",
       "    </tr>\n",
       "    <tr>\n",
       "      <th>2</th>\n",
       "      <td>5.291503</td>\n",
       "      <td>1</td>\n",
       "      <td>0.404871</td>\n",
       "      <td>-5.224430</td>\n",
       "      <td>3.297172</td>\n",
       "      <td>-1.184638</td>\n",
       "      <td>0.819815</td>\n",
       "      <td>0.192424</td>\n",
       "      <td>-1.702691</td>\n",
       "      <td>-2.479326</td>\n",
       "      <td>...</td>\n",
       "      <td>0.0</td>\n",
       "      <td>1.0</td>\n",
       "      <td>0.0</td>\n",
       "      <td>0.0</td>\n",
       "      <td>0.0</td>\n",
       "      <td>0.0</td>\n",
       "      <td>0.0</td>\n",
       "      <td>0.0</td>\n",
       "      <td>0.0</td>\n",
       "      <td>1.0</td>\n",
       "    </tr>\n",
       "    <tr>\n",
       "      <th>3</th>\n",
       "      <td>6.244998</td>\n",
       "      <td>0</td>\n",
       "      <td>-0.109756</td>\n",
       "      <td>0.191417</td>\n",
       "      <td>-0.383474</td>\n",
       "      <td>-1.249725</td>\n",
       "      <td>-0.901354</td>\n",
       "      <td>-1.456379</td>\n",
       "      <td>-1.309035</td>\n",
       "      <td>-0.988642</td>\n",
       "      <td>...</td>\n",
       "      <td>0.0</td>\n",
       "      <td>0.0</td>\n",
       "      <td>0.0</td>\n",
       "      <td>0.0</td>\n",
       "      <td>0.0</td>\n",
       "      <td>0.0</td>\n",
       "      <td>0.0</td>\n",
       "      <td>0.0</td>\n",
       "      <td>1.0</td>\n",
       "      <td>0.0</td>\n",
       "    </tr>\n",
       "    <tr>\n",
       "      <th>4</th>\n",
       "      <td>7.416198</td>\n",
       "      <td>1</td>\n",
       "      <td>-0.780430</td>\n",
       "      <td>-5.240793</td>\n",
       "      <td>2.219136</td>\n",
       "      <td>-1.965690</td>\n",
       "      <td>-2.436356</td>\n",
       "      <td>2.089676</td>\n",
       "      <td>-1.621164</td>\n",
       "      <td>-1.308855</td>\n",
       "      <td>...</td>\n",
       "      <td>0.0</td>\n",
       "      <td>0.0</td>\n",
       "      <td>0.0</td>\n",
       "      <td>0.0</td>\n",
       "      <td>0.0</td>\n",
       "      <td>0.0</td>\n",
       "      <td>0.0</td>\n",
       "      <td>0.0</td>\n",
       "      <td>0.0</td>\n",
       "      <td>1.0</td>\n",
       "    </tr>\n",
       "    <tr>\n",
       "      <th>...</th>\n",
       "      <td>...</td>\n",
       "      <td>...</td>\n",
       "      <td>...</td>\n",
       "      <td>...</td>\n",
       "      <td>...</td>\n",
       "      <td>...</td>\n",
       "      <td>...</td>\n",
       "      <td>...</td>\n",
       "      <td>...</td>\n",
       "      <td>...</td>\n",
       "      <td>...</td>\n",
       "      <td>...</td>\n",
       "      <td>...</td>\n",
       "      <td>...</td>\n",
       "      <td>...</td>\n",
       "      <td>...</td>\n",
       "      <td>...</td>\n",
       "      <td>...</td>\n",
       "      <td>...</td>\n",
       "      <td>...</td>\n",
       "      <td>...</td>\n",
       "    </tr>\n",
       "    <tr>\n",
       "      <th>40735</th>\n",
       "      <td>5.477226</td>\n",
       "      <td>0</td>\n",
       "      <td>0.838721</td>\n",
       "      <td>0.191417</td>\n",
       "      <td>2.219136</td>\n",
       "      <td>-1.249725</td>\n",
       "      <td>-1.221000</td>\n",
       "      <td>-1.253102</td>\n",
       "      <td>-1.389979</td>\n",
       "      <td>-0.988642</td>\n",
       "      <td>...</td>\n",
       "      <td>0.0</td>\n",
       "      <td>0.0</td>\n",
       "      <td>0.0</td>\n",
       "      <td>1.0</td>\n",
       "      <td>0.0</td>\n",
       "      <td>0.0</td>\n",
       "      <td>0.0</td>\n",
       "      <td>0.0</td>\n",
       "      <td>1.0</td>\n",
       "      <td>0.0</td>\n",
       "    </tr>\n",
       "    <tr>\n",
       "      <th>40736</th>\n",
       "      <td>7.071068</td>\n",
       "      <td>0</td>\n",
       "      <td>-0.780430</td>\n",
       "      <td>0.191417</td>\n",
       "      <td>-0.383474</td>\n",
       "      <td>0.833081</td>\n",
       "      <td>1.539896</td>\n",
       "      <td>-0.259303</td>\n",
       "      <td>0.706412</td>\n",
       "      <td>0.842105</td>\n",
       "      <td>...</td>\n",
       "      <td>1.0</td>\n",
       "      <td>0.0</td>\n",
       "      <td>0.0</td>\n",
       "      <td>0.0</td>\n",
       "      <td>0.0</td>\n",
       "      <td>0.0</td>\n",
       "      <td>0.0</td>\n",
       "      <td>0.0</td>\n",
       "      <td>1.0</td>\n",
       "      <td>0.0</td>\n",
       "    </tr>\n",
       "    <tr>\n",
       "      <th>40737</th>\n",
       "      <td>5.477226</td>\n",
       "      <td>1</td>\n",
       "      <td>-0.109756</td>\n",
       "      <td>0.191417</td>\n",
       "      <td>-0.383474</td>\n",
       "      <td>0.637818</td>\n",
       "      <td>0.712681</td>\n",
       "      <td>0.960360</td>\n",
       "      <td>0.702918</td>\n",
       "      <td>0.310903</td>\n",
       "      <td>...</td>\n",
       "      <td>0.0</td>\n",
       "      <td>0.0</td>\n",
       "      <td>0.0</td>\n",
       "      <td>0.0</td>\n",
       "      <td>1.0</td>\n",
       "      <td>0.0</td>\n",
       "      <td>0.0</td>\n",
       "      <td>1.0</td>\n",
       "      <td>0.0</td>\n",
       "      <td>0.0</td>\n",
       "    </tr>\n",
       "    <tr>\n",
       "      <th>40738</th>\n",
       "      <td>6.164414</td>\n",
       "      <td>0</td>\n",
       "      <td>0.404871</td>\n",
       "      <td>0.191417</td>\n",
       "      <td>-0.383474</td>\n",
       "      <td>0.637818</td>\n",
       "      <td>0.712681</td>\n",
       "      <td>0.960360</td>\n",
       "      <td>0.701171</td>\n",
       "      <td>0.310903</td>\n",
       "      <td>...</td>\n",
       "      <td>0.0</td>\n",
       "      <td>0.0</td>\n",
       "      <td>1.0</td>\n",
       "      <td>0.0</td>\n",
       "      <td>0.0</td>\n",
       "      <td>0.0</td>\n",
       "      <td>0.0</td>\n",
       "      <td>0.0</td>\n",
       "      <td>1.0</td>\n",
       "      <td>0.0</td>\n",
       "    </tr>\n",
       "    <tr>\n",
       "      <th>40739</th>\n",
       "      <td>6.000000</td>\n",
       "      <td>0</td>\n",
       "      <td>0.838721</td>\n",
       "      <td>0.191417</td>\n",
       "      <td>-0.383474</td>\n",
       "      <td>0.637818</td>\n",
       "      <td>0.712681</td>\n",
       "      <td>0.960360</td>\n",
       "      <td>0.702336</td>\n",
       "      <td>0.310903</td>\n",
       "      <td>...</td>\n",
       "      <td>1.0</td>\n",
       "      <td>0.0</td>\n",
       "      <td>0.0</td>\n",
       "      <td>0.0</td>\n",
       "      <td>0.0</td>\n",
       "      <td>0.0</td>\n",
       "      <td>0.0</td>\n",
       "      <td>0.0</td>\n",
       "      <td>1.0</td>\n",
       "      <td>0.0</td>\n",
       "    </tr>\n",
       "  </tbody>\n",
       "</table>\n",
       "<p>40296 rows × 57 columns</p>\n",
       "</div>"
      ],
      "text/plain": [
       "            age  y  campaign     pdays  previous  emp_var_rate  \\\n",
       "0      6.633250  0 -0.780430  0.191417 -0.383474      0.833081   \n",
       "1      7.280110  0 -0.780430  0.191417 -0.383474     -0.143234   \n",
       "2      5.291503  1  0.404871 -5.224430  3.297172     -1.184638   \n",
       "3      6.244998  0 -0.109756  0.191417 -0.383474     -1.249725   \n",
       "4      7.416198  1 -0.780430 -5.240793  2.219136     -1.965690   \n",
       "...         ... ..       ...       ...       ...           ...   \n",
       "40735  5.477226  0  0.838721  0.191417  2.219136     -1.249725   \n",
       "40736  7.071068  0 -0.780430  0.191417 -0.383474      0.833081   \n",
       "40737  5.477226  1 -0.109756  0.191417 -0.383474      0.637818   \n",
       "40738  6.164414  0  0.404871  0.191417 -0.383474      0.637818   \n",
       "40739  6.000000  0  0.838721  0.191417 -0.383474      0.637818   \n",
       "\n",
       "       cons_price_idx  cons_conf_idx  euribor3m  nr_employed  ...  x6_jul  \\\n",
       "0           -0.253281       1.028119   0.762898     0.842105  ...     0.0   \n",
       "1           -0.681817      -0.304475   0.214342     0.379417  ...     0.0   \n",
       "2            0.819815       0.192424  -1.702691    -2.479326  ...     0.0   \n",
       "3           -0.901354      -1.456379  -1.309035    -0.988642  ...     0.0   \n",
       "4           -2.436356       2.089676  -1.621164    -1.308855  ...     0.0   \n",
       "...               ...            ...        ...          ...  ...     ...   \n",
       "40735       -1.221000      -1.253102  -1.389979    -0.988642  ...     0.0   \n",
       "40736        1.539896      -0.259303   0.706412     0.842105  ...     1.0   \n",
       "40737        0.712681       0.960360   0.702918     0.310903  ...     0.0   \n",
       "40738        0.712681       0.960360   0.701171     0.310903  ...     0.0   \n",
       "40739        0.712681       0.960360   0.702336     0.310903  ...     1.0   \n",
       "\n",
       "       x6_jun  x6_mar  x6_may  x6_nov  x6_oct  x6_sep  x7_failure  \\\n",
       "0         0.0     0.0     0.0     0.0     0.0     0.0         0.0   \n",
       "1         0.0     0.0     0.0     1.0     0.0     0.0         0.0   \n",
       "2         1.0     0.0     0.0     0.0     0.0     0.0         0.0   \n",
       "3         0.0     0.0     0.0     0.0     0.0     0.0         0.0   \n",
       "4         0.0     0.0     0.0     0.0     0.0     0.0         0.0   \n",
       "...       ...     ...     ...     ...     ...     ...         ...   \n",
       "40735     0.0     0.0     1.0     0.0     0.0     0.0         0.0   \n",
       "40736     0.0     0.0     0.0     0.0     0.0     0.0         0.0   \n",
       "40737     0.0     0.0     0.0     1.0     0.0     0.0         1.0   \n",
       "40738     0.0     1.0     0.0     0.0     0.0     0.0         0.0   \n",
       "40739     0.0     0.0     0.0     0.0     0.0     0.0         0.0   \n",
       "\n",
       "       x7_nonexistent  x7_success  \n",
       "0                 1.0         0.0  \n",
       "1                 1.0         0.0  \n",
       "2                 0.0         1.0  \n",
       "3                 1.0         0.0  \n",
       "4                 0.0         1.0  \n",
       "...               ...         ...  \n",
       "40735             1.0         0.0  \n",
       "40736             1.0         0.0  \n",
       "40737             0.0         0.0  \n",
       "40738             1.0         0.0  \n",
       "40739             1.0         0.0  \n",
       "\n",
       "[40296 rows x 57 columns]"
      ]
     },
     "execution_count": 41,
     "metadata": {},
     "output_type": "execute_result"
    }
   ],
   "source": [
    "df_new=pd.concat([df_standerlized,df_labeled],axis=1,join='inner')\n",
    "df_new"
   ]
  },
  {
   "cell_type": "code",
   "execution_count": 42,
   "metadata": {},
   "outputs": [
    {
     "data": {
      "text/plain": [
       "age                       0\n",
       "y                         0\n",
       "campaign                  0\n",
       "pdays                     0\n",
       "previous                  0\n",
       "emp_var_rate              0\n",
       "cons_price_idx            0\n",
       "cons_conf_idx             0\n",
       "euribor3m                 0\n",
       "nr_employed               0\n",
       "contact                   0\n",
       "x0_admin.                 0\n",
       "x0_blue-collar            0\n",
       "x0_entrepreneur           0\n",
       "x0_housemaid              0\n",
       "x0_management             0\n",
       "x0_retired                0\n",
       "x0_self-employed          0\n",
       "x0_services               0\n",
       "x0_student                0\n",
       "x0_technician             0\n",
       "x0_unemployed             0\n",
       "x0_unknown                0\n",
       "x1_divorced               0\n",
       "x1_married                0\n",
       "x1_single                 0\n",
       "x1_unknown                0\n",
       "x2_basic.4y               0\n",
       "x2_basic.6y               0\n",
       "x2_basic.9y               0\n",
       "x2_high.school            0\n",
       "x2_illiterate             0\n",
       "x2_professional.course    0\n",
       "x2_university.degree      0\n",
       "x2_unknown                0\n",
       "x3_no                     0\n",
       "x3_unknown                0\n",
       "x3_yes                    0\n",
       "x4_no                     0\n",
       "x4_unknown                0\n",
       "x4_yes                    0\n",
       "x5_no                     0\n",
       "x5_unknown                0\n",
       "x5_yes                    0\n",
       "x6_apr                    0\n",
       "x6_aug                    0\n",
       "x6_dec                    0\n",
       "x6_jul                    0\n",
       "x6_jun                    0\n",
       "x6_mar                    0\n",
       "x6_may                    0\n",
       "x6_nov                    0\n",
       "x6_oct                    0\n",
       "x6_sep                    0\n",
       "x7_failure                0\n",
       "x7_nonexistent            0\n",
       "x7_success                0\n",
       "dtype: int64"
      ]
     },
     "execution_count": 42,
     "metadata": {},
     "output_type": "execute_result"
    }
   ],
   "source": [
    "df_new.isnull().sum()"
   ]
  },
  {
   "cell_type": "markdown",
   "metadata": {},
   "source": [
    "<h1>Discretization,</h1>"
   ]
  },
  {
   "cell_type": "markdown",
   "metadata": {},
   "source": [
    "<h5>Here we seperte age from standerlization and only age is discretized</h5>"
   ]
  },
  {
   "cell_type": "code",
   "execution_count": 43,
   "metadata": {},
   "outputs": [],
   "source": [
    "from sklearn.preprocessing import KBinsDiscretizer\n",
    "\n",
    "discretization  = pd.DataFrame(df_new, columns=['age'])\n",
    "\n",
    "\n",
    "# fit the scaler to the  data\n",
    "discretizer = KBinsDiscretizer(n_bins=8, encode='ordinal', strategy='kmeans') \n",
    "discretizer.fit(discretization)\n",
    "\n",
    "discretized = discretizer.transform(discretization)\n",
    "\n",
    "\n",
    "df_discretized = pd.DataFrame(discretized,columns=['age'])\n",
    "\n",
    "df_new['age']=df_discretized['age']\n"
   ]
  },
  {
   "cell_type": "code",
   "execution_count": 44,
   "metadata": {},
   "outputs": [
    {
     "data": {
      "text/html": [
       "<div>\n",
       "<style scoped>\n",
       "    .dataframe tbody tr th:only-of-type {\n",
       "        vertical-align: middle;\n",
       "    }\n",
       "\n",
       "    .dataframe tbody tr th {\n",
       "        vertical-align: top;\n",
       "    }\n",
       "\n",
       "    .dataframe thead th {\n",
       "        text-align: right;\n",
       "    }\n",
       "</style>\n",
       "<table border=\"1\" class=\"dataframe\">\n",
       "  <thead>\n",
       "    <tr style=\"text-align: right;\">\n",
       "      <th></th>\n",
       "      <th>age</th>\n",
       "    </tr>\n",
       "  </thead>\n",
       "  <tbody>\n",
       "    <tr>\n",
       "      <th>0</th>\n",
       "      <td>3.0</td>\n",
       "    </tr>\n",
       "    <tr>\n",
       "      <th>1</th>\n",
       "      <td>5.0</td>\n",
       "    </tr>\n",
       "    <tr>\n",
       "      <th>2</th>\n",
       "      <td>1.0</td>\n",
       "    </tr>\n",
       "    <tr>\n",
       "      <th>3</th>\n",
       "      <td>3.0</td>\n",
       "    </tr>\n",
       "    <tr>\n",
       "      <th>4</th>\n",
       "      <td>5.0</td>\n",
       "    </tr>\n",
       "    <tr>\n",
       "      <th>...</th>\n",
       "      <td>...</td>\n",
       "    </tr>\n",
       "    <tr>\n",
       "      <th>40291</th>\n",
       "      <td>1.0</td>\n",
       "    </tr>\n",
       "    <tr>\n",
       "      <th>40292</th>\n",
       "      <td>4.0</td>\n",
       "    </tr>\n",
       "    <tr>\n",
       "      <th>40293</th>\n",
       "      <td>1.0</td>\n",
       "    </tr>\n",
       "    <tr>\n",
       "      <th>40294</th>\n",
       "      <td>2.0</td>\n",
       "    </tr>\n",
       "    <tr>\n",
       "      <th>40295</th>\n",
       "      <td>2.0</td>\n",
       "    </tr>\n",
       "  </tbody>\n",
       "</table>\n",
       "<p>40296 rows × 1 columns</p>\n",
       "</div>"
      ],
      "text/plain": [
       "       age\n",
       "0      3.0\n",
       "1      5.0\n",
       "2      1.0\n",
       "3      3.0\n",
       "4      5.0\n",
       "...    ...\n",
       "40291  1.0\n",
       "40292  4.0\n",
       "40293  1.0\n",
       "40294  2.0\n",
       "40295  2.0\n",
       "\n",
       "[40296 rows x 1 columns]"
      ]
     },
     "execution_count": 44,
     "metadata": {},
     "output_type": "execute_result"
    }
   ],
   "source": [
    "df_discretized"
   ]
  },
  {
   "cell_type": "markdown",
   "metadata": {},
   "source": [
    "<h5>Before Discretization</h5>"
   ]
  },
  {
   "cell_type": "code",
   "execution_count": 45,
   "metadata": {},
   "outputs": [
    {
     "data": {
      "image/png": "[encoded data removed]",
      "text/plain": [
       "<Figure size 432x288 with 1 Axes>"
      ]
     },
     "metadata": {
      "needs_background": "light"
     },
     "output_type": "display_data"
    }
   ],
   "source": [
    "discretization.hist();"
   ]
  },
  {
   "cell_type": "markdown",
   "metadata": {},
   "source": [
    "<h5>After Discretization</h5>"
   ]
  },
  {
   "cell_type": "code",
   "execution_count": 46,
   "metadata": {},
   "outputs": [
    {
     "data": {
      "image/png": "[encoded data removed]",
      "text/plain": [
       "<Figure size 432x288 with 1 Axes>"
      ]
     },
     "metadata": {
      "needs_background": "light"
     },
     "output_type": "display_data"
    }
   ],
   "source": [
    "df_discretized.hist();"
   ]
  },
  {
   "cell_type": "code",
   "execution_count": 47,
   "metadata": {},
   "outputs": [
    {
     "data": {
      "text/html": [
       "<div>\n",
       "<style scoped>\n",
       "    .dataframe tbody tr th:only-of-type {\n",
       "        vertical-align: middle;\n",
       "    }\n",
       "\n",
       "    .dataframe tbody tr th {\n",
       "        vertical-align: top;\n",
       "    }\n",
       "\n",
       "    .dataframe thead th {\n",
       "        text-align: right;\n",
       "    }\n",
       "</style>\n",
       "<table border=\"1\" class=\"dataframe\">\n",
       "  <thead>\n",
       "    <tr style=\"text-align: right;\">\n",
       "      <th></th>\n",
       "      <th>age</th>\n",
       "      <th>y</th>\n",
       "      <th>campaign</th>\n",
       "      <th>pdays</th>\n",
       "      <th>previous</th>\n",
       "      <th>emp_var_rate</th>\n",
       "      <th>cons_price_idx</th>\n",
       "      <th>cons_conf_idx</th>\n",
       "      <th>euribor3m</th>\n",
       "      <th>nr_employed</th>\n",
       "      <th>...</th>\n",
       "      <th>x6_jul</th>\n",
       "      <th>x6_jun</th>\n",
       "      <th>x6_mar</th>\n",
       "      <th>x6_may</th>\n",
       "      <th>x6_nov</th>\n",
       "      <th>x6_oct</th>\n",
       "      <th>x6_sep</th>\n",
       "      <th>x7_failure</th>\n",
       "      <th>x7_nonexistent</th>\n",
       "      <th>x7_success</th>\n",
       "    </tr>\n",
       "  </thead>\n",
       "  <tbody>\n",
       "    <tr>\n",
       "      <th>0</th>\n",
       "      <td>3.0</td>\n",
       "      <td>0</td>\n",
       "      <td>-0.780430</td>\n",
       "      <td>0.191417</td>\n",
       "      <td>-0.383474</td>\n",
       "      <td>0.833081</td>\n",
       "      <td>-0.253281</td>\n",
       "      <td>1.028119</td>\n",
       "      <td>0.762898</td>\n",
       "      <td>0.842105</td>\n",
       "      <td>...</td>\n",
       "      <td>0.0</td>\n",
       "      <td>0.0</td>\n",
       "      <td>0.0</td>\n",
       "      <td>0.0</td>\n",
       "      <td>0.0</td>\n",
       "      <td>0.0</td>\n",
       "      <td>0.0</td>\n",
       "      <td>0.0</td>\n",
       "      <td>1.0</td>\n",
       "      <td>0.0</td>\n",
       "    </tr>\n",
       "    <tr>\n",
       "      <th>1</th>\n",
       "      <td>5.0</td>\n",
       "      <td>0</td>\n",
       "      <td>-0.780430</td>\n",
       "      <td>0.191417</td>\n",
       "      <td>-0.383474</td>\n",
       "      <td>-0.143234</td>\n",
       "      <td>-0.681817</td>\n",
       "      <td>-0.304475</td>\n",
       "      <td>0.214342</td>\n",
       "      <td>0.379417</td>\n",
       "      <td>...</td>\n",
       "      <td>0.0</td>\n",
       "      <td>0.0</td>\n",
       "      <td>0.0</td>\n",
       "      <td>0.0</td>\n",
       "      <td>1.0</td>\n",
       "      <td>0.0</td>\n",
       "      <td>0.0</td>\n",
       "      <td>0.0</td>\n",
       "      <td>1.0</td>\n",
       "      <td>0.0</td>\n",
       "    </tr>\n",
       "    <tr>\n",
       "      <th>2</th>\n",
       "      <td>1.0</td>\n",
       "      <td>1</td>\n",
       "      <td>0.404871</td>\n",
       "      <td>-5.224430</td>\n",
       "      <td>3.297172</td>\n",
       "      <td>-1.184638</td>\n",
       "      <td>0.819815</td>\n",
       "      <td>0.192424</td>\n",
       "      <td>-1.702691</td>\n",
       "      <td>-2.479326</td>\n",
       "      <td>...</td>\n",
       "      <td>0.0</td>\n",
       "      <td>1.0</td>\n",
       "      <td>0.0</td>\n",
       "      <td>0.0</td>\n",
       "      <td>0.0</td>\n",
       "      <td>0.0</td>\n",
       "      <td>0.0</td>\n",
       "      <td>0.0</td>\n",
       "      <td>0.0</td>\n",
       "      <td>1.0</td>\n",
       "    </tr>\n",
       "    <tr>\n",
       "      <th>3</th>\n",
       "      <td>3.0</td>\n",
       "      <td>0</td>\n",
       "      <td>-0.109756</td>\n",
       "      <td>0.191417</td>\n",
       "      <td>-0.383474</td>\n",
       "      <td>-1.249725</td>\n",
       "      <td>-0.901354</td>\n",
       "      <td>-1.456379</td>\n",
       "      <td>-1.309035</td>\n",
       "      <td>-0.988642</td>\n",
       "      <td>...</td>\n",
       "      <td>0.0</td>\n",
       "      <td>0.0</td>\n",
       "      <td>0.0</td>\n",
       "      <td>0.0</td>\n",
       "      <td>0.0</td>\n",
       "      <td>0.0</td>\n",
       "      <td>0.0</td>\n",
       "      <td>0.0</td>\n",
       "      <td>1.0</td>\n",
       "      <td>0.0</td>\n",
       "    </tr>\n",
       "    <tr>\n",
       "      <th>4</th>\n",
       "      <td>5.0</td>\n",
       "      <td>1</td>\n",
       "      <td>-0.780430</td>\n",
       "      <td>-5.240793</td>\n",
       "      <td>2.219136</td>\n",
       "      <td>-1.965690</td>\n",
       "      <td>-2.436356</td>\n",
       "      <td>2.089676</td>\n",
       "      <td>-1.621164</td>\n",
       "      <td>-1.308855</td>\n",
       "      <td>...</td>\n",
       "      <td>0.0</td>\n",
       "      <td>0.0</td>\n",
       "      <td>0.0</td>\n",
       "      <td>0.0</td>\n",
       "      <td>0.0</td>\n",
       "      <td>0.0</td>\n",
       "      <td>0.0</td>\n",
       "      <td>0.0</td>\n",
       "      <td>0.0</td>\n",
       "      <td>1.0</td>\n",
       "    </tr>\n",
       "    <tr>\n",
       "      <th>...</th>\n",
       "      <td>...</td>\n",
       "      <td>...</td>\n",
       "      <td>...</td>\n",
       "      <td>...</td>\n",
       "      <td>...</td>\n",
       "      <td>...</td>\n",
       "      <td>...</td>\n",
       "      <td>...</td>\n",
       "      <td>...</td>\n",
       "      <td>...</td>\n",
       "      <td>...</td>\n",
       "      <td>...</td>\n",
       "      <td>...</td>\n",
       "      <td>...</td>\n",
       "      <td>...</td>\n",
       "      <td>...</td>\n",
       "      <td>...</td>\n",
       "      <td>...</td>\n",
       "      <td>...</td>\n",
       "      <td>...</td>\n",
       "      <td>...</td>\n",
       "    </tr>\n",
       "    <tr>\n",
       "      <th>40735</th>\n",
       "      <td>NaN</td>\n",
       "      <td>0</td>\n",
       "      <td>0.838721</td>\n",
       "      <td>0.191417</td>\n",
       "      <td>2.219136</td>\n",
       "      <td>-1.249725</td>\n",
       "      <td>-1.221000</td>\n",
       "      <td>-1.253102</td>\n",
       "      <td>-1.389979</td>\n",
       "      <td>-0.988642</td>\n",
       "      <td>...</td>\n",
       "      <td>0.0</td>\n",
       "      <td>0.0</td>\n",
       "      <td>0.0</td>\n",
       "      <td>1.0</td>\n",
       "      <td>0.0</td>\n",
       "      <td>0.0</td>\n",
       "      <td>0.0</td>\n",
       "      <td>0.0</td>\n",
       "      <td>1.0</td>\n",
       "      <td>0.0</td>\n",
       "    </tr>\n",
       "    <tr>\n",
       "      <th>40736</th>\n",
       "      <td>NaN</td>\n",
       "      <td>0</td>\n",
       "      <td>-0.780430</td>\n",
       "      <td>0.191417</td>\n",
       "      <td>-0.383474</td>\n",
       "      <td>0.833081</td>\n",
       "      <td>1.539896</td>\n",
       "      <td>-0.259303</td>\n",
       "      <td>0.706412</td>\n",
       "      <td>0.842105</td>\n",
       "      <td>...</td>\n",
       "      <td>1.0</td>\n",
       "      <td>0.0</td>\n",
       "      <td>0.0</td>\n",
       "      <td>0.0</td>\n",
       "      <td>0.0</td>\n",
       "      <td>0.0</td>\n",
       "      <td>0.0</td>\n",
       "      <td>0.0</td>\n",
       "      <td>1.0</td>\n",
       "      <td>0.0</td>\n",
       "    </tr>\n",
       "    <tr>\n",
       "      <th>40737</th>\n",
       "      <td>NaN</td>\n",
       "      <td>1</td>\n",
       "      <td>-0.109756</td>\n",
       "      <td>0.191417</td>\n",
       "      <td>-0.383474</td>\n",
       "      <td>0.637818</td>\n",
       "      <td>0.712681</td>\n",
       "      <td>0.960360</td>\n",
       "      <td>0.702918</td>\n",
       "      <td>0.310903</td>\n",
       "      <td>...</td>\n",
       "      <td>0.0</td>\n",
       "      <td>0.0</td>\n",
       "      <td>0.0</td>\n",
       "      <td>0.0</td>\n",
       "      <td>1.0</td>\n",
       "      <td>0.0</td>\n",
       "      <td>0.0</td>\n",
       "      <td>1.0</td>\n",
       "      <td>0.0</td>\n",
       "      <td>0.0</td>\n",
       "    </tr>\n",
       "    <tr>\n",
       "      <th>40738</th>\n",
       "      <td>NaN</td>\n",
       "      <td>0</td>\n",
       "      <td>0.404871</td>\n",
       "      <td>0.191417</td>\n",
       "      <td>-0.383474</td>\n",
       "      <td>0.637818</td>\n",
       "      <td>0.712681</td>\n",
       "      <td>0.960360</td>\n",
       "      <td>0.701171</td>\n",
       "      <td>0.310903</td>\n",
       "      <td>...</td>\n",
       "      <td>0.0</td>\n",
       "      <td>0.0</td>\n",
       "      <td>1.0</td>\n",
       "      <td>0.0</td>\n",
       "      <td>0.0</td>\n",
       "      <td>0.0</td>\n",
       "      <td>0.0</td>\n",
       "      <td>0.0</td>\n",
       "      <td>1.0</td>\n",
       "      <td>0.0</td>\n",
       "    </tr>\n",
       "    <tr>\n",
       "      <th>40739</th>\n",
       "      <td>NaN</td>\n",
       "      <td>0</td>\n",
       "      <td>0.838721</td>\n",
       "      <td>0.191417</td>\n",
       "      <td>-0.383474</td>\n",
       "      <td>0.637818</td>\n",
       "      <td>0.712681</td>\n",
       "      <td>0.960360</td>\n",
       "      <td>0.702336</td>\n",
       "      <td>0.310903</td>\n",
       "      <td>...</td>\n",
       "      <td>1.0</td>\n",
       "      <td>0.0</td>\n",
       "      <td>0.0</td>\n",
       "      <td>0.0</td>\n",
       "      <td>0.0</td>\n",
       "      <td>0.0</td>\n",
       "      <td>0.0</td>\n",
       "      <td>0.0</td>\n",
       "      <td>1.0</td>\n",
       "      <td>0.0</td>\n",
       "    </tr>\n",
       "  </tbody>\n",
       "</table>\n",
       "<p>40296 rows × 57 columns</p>\n",
       "</div>"
      ],
      "text/plain": [
       "       age  y  campaign     pdays  previous  emp_var_rate  cons_price_idx  \\\n",
       "0      3.0  0 -0.780430  0.191417 -0.383474      0.833081       -0.253281   \n",
       "1      5.0  0 -0.780430  0.191417 -0.383474     -0.143234       -0.681817   \n",
       "2      1.0  1  0.404871 -5.224430  3.297172     -1.184638        0.819815   \n",
       "3      3.0  0 -0.109756  0.191417 -0.383474     -1.249725       -0.901354   \n",
       "4      5.0  1 -0.780430 -5.240793  2.219136     -1.965690       -2.436356   \n",
       "...    ... ..       ...       ...       ...           ...             ...   \n",
       "40735  NaN  0  0.838721  0.191417  2.219136     -1.249725       -1.221000   \n",
       "40736  NaN  0 -0.780430  0.191417 -0.383474      0.833081        1.539896   \n",
       "40737  NaN  1 -0.109756  0.191417 -0.383474      0.637818        0.712681   \n",
       "40738  NaN  0  0.404871  0.191417 -0.383474      0.637818        0.712681   \n",
       "40739  NaN  0  0.838721  0.191417 -0.383474      0.637818        0.712681   \n",
       "\n",
       "       cons_conf_idx  euribor3m  nr_employed  ...  x6_jul  x6_jun  x6_mar  \\\n",
       "0           1.028119   0.762898     0.842105  ...     0.0     0.0     0.0   \n",
       "1          -0.304475   0.214342     0.379417  ...     0.0     0.0     0.0   \n",
       "2           0.192424  -1.702691    -2.479326  ...     0.0     1.0     0.0   \n",
       "3          -1.456379  -1.309035    -0.988642  ...     0.0     0.0     0.0   \n",
       "4           2.089676  -1.621164    -1.308855  ...     0.0     0.0     0.0   \n",
       "...              ...        ...          ...  ...     ...     ...     ...   \n",
       "40735      -1.253102  -1.389979    -0.988642  ...     0.0     0.0     0.0   \n",
       "40736      -0.259303   0.706412     0.842105  ...     1.0     0.0     0.0   \n",
       "40737       0.960360   0.702918     0.310903  ...     0.0     0.0     0.0   \n",
       "40738       0.960360   0.701171     0.310903  ...     0.0     0.0     1.0   \n",
       "40739       0.960360   0.702336     0.310903  ...     1.0     0.0     0.0   \n",
       "\n",
       "       x6_may  x6_nov  x6_oct  x6_sep  x7_failure  x7_nonexistent  x7_success  \n",
       "0         0.0     0.0     0.0     0.0         0.0             1.0         0.0  \n",
       "1         0.0     1.0     0.0     0.0         0.0             1.0         0.0  \n",
       "2         0.0     0.0     0.0     0.0         0.0             0.0         1.0  \n",
       "3         0.0     0.0     0.0     0.0         0.0             1.0         0.0  \n",
       "4         0.0     0.0     0.0     0.0         0.0             0.0         1.0  \n",
       "...       ...     ...     ...     ...         ...             ...         ...  \n",
       "40735     1.0     0.0     0.0     0.0         0.0             1.0         0.0  \n",
       "40736     0.0     0.0     0.0     0.0         0.0             1.0         0.0  \n",
       "40737     0.0     1.0     0.0     0.0         1.0             0.0         0.0  \n",
       "40738     0.0     0.0     0.0     0.0         0.0             1.0         0.0  \n",
       "40739     0.0     0.0     0.0     0.0         0.0             1.0         0.0  \n",
       "\n",
       "[40296 rows x 57 columns]"
      ]
     },
     "execution_count": 47,
     "metadata": {},
     "output_type": "execute_result"
    }
   ],
   "source": [
    "df_new"
   ]
  },
  {
   "cell_type": "code",
   "execution_count": 48,
   "metadata": {},
   "outputs": [
    {
     "data": {
      "image/png": "[encoded data removed]",
      "text/plain": [
       "<Figure size 432x288 with 1 Axes>"
      ]
     },
     "metadata": {
      "needs_background": "light"
     },
     "output_type": "display_data"
    }
   ],
   "source": [
    "df_new['y'].value_counts()\n",
    "sns.countplot(x='y', data=df_new)\n",
    "plt.show()"
   ]
  },
  {
   "cell_type": "markdown",
   "metadata": {},
   "source": [
    "<h1>Slpiting the dataset</h1>"
   ]
  },
  {
   "cell_type": "code",
   "execution_count": 49,
   "metadata": {},
   "outputs": [],
   "source": [
    "from sklearn.model_selection import train_test_split\n",
    "from imblearn.over_sampling import SMOTE\n",
    "\n",
    "os = SMOTE(random_state=0)\n",
    "\n",
    "df_new=df_new.dropna(axis=0)\n",
    "df_new=df_new.reset_index(drop=True)\n",
    "features_df= df_new.drop('y', 1)\n",
    "target = pd.DataFrame(df_new['y'], columns=[\"y\"])\n",
    "\n",
    "\n",
    "X_class_train, X_test, y_class_train, y_test = train_test_split(features_df, target, test_size = 0.3, random_state = 0)\n",
    "\n",
    "data_X, data_y = os.fit_resample(X_class_train, y_class_train)\n",
    "\n",
    "smoted_X = pd.DataFrame(data=data_X,columns=features_df.columns )\n",
    "smoted_y= pd.DataFrame(data=data_y,columns=['y'])\n",
    "\n",
    "#reset index\n",
    "\n",
    "X_train=smoted_X\n",
    "y_train = smoted_y\n",
    "\n",
    "X_train=X_train.reset_index(drop=True)\n",
    "X_test=X_test.reset_index(drop=True)\n",
    "y_train=y_train.reset_index(drop=True)\n",
    "y_test=y_test.reset_index(drop=True)"
   ]
  },
  {
   "cell_type": "code",
   "execution_count": 50,
   "metadata": {},
   "outputs": [
    {
     "data": {
      "image/png": "[encoded data removed]",
      "text/plain": [
       "<Figure size 432x288 with 1 Axes>"
      ]
     },
     "metadata": {
      "needs_background": "light"
     },
     "output_type": "display_data"
    }
   ],
   "source": [
    "sns.countplot(x='y', data=smoted_y)\n",
    "plt.show()"
   ]
  },
  {
   "cell_type": "code",
   "execution_count": 51,
   "metadata": {},
   "outputs": [
    {
     "data": {
      "text/html": [
       "<div>\n",
       "<style scoped>\n",
       "    .dataframe tbody tr th:only-of-type {\n",
       "        vertical-align: middle;\n",
       "    }\n",
       "\n",
       "    .dataframe tbody tr th {\n",
       "        vertical-align: top;\n",
       "    }\n",
       "\n",
       "    .dataframe thead th {\n",
       "        text-align: right;\n",
       "    }\n",
       "</style>\n",
       "<table border=\"1\" class=\"dataframe\">\n",
       "  <thead>\n",
       "    <tr style=\"text-align: right;\">\n",
       "      <th></th>\n",
       "      <th>age</th>\n",
       "      <th>campaign</th>\n",
       "      <th>pdays</th>\n",
       "      <th>previous</th>\n",
       "      <th>emp_var_rate</th>\n",
       "      <th>cons_price_idx</th>\n",
       "      <th>cons_conf_idx</th>\n",
       "      <th>euribor3m</th>\n",
       "      <th>nr_employed</th>\n",
       "      <th>contact</th>\n",
       "      <th>...</th>\n",
       "      <th>x6_jul</th>\n",
       "      <th>x6_jun</th>\n",
       "      <th>x6_mar</th>\n",
       "      <th>x6_may</th>\n",
       "      <th>x6_nov</th>\n",
       "      <th>x6_oct</th>\n",
       "      <th>x6_sep</th>\n",
       "      <th>x7_failure</th>\n",
       "      <th>x7_nonexistent</th>\n",
       "      <th>x7_success</th>\n",
       "    </tr>\n",
       "  </thead>\n",
       "  <tbody>\n",
       "    <tr>\n",
       "      <th>0</th>\n",
       "      <td>5.0</td>\n",
       "      <td>-0.109756</td>\n",
       "      <td>0.191417</td>\n",
       "      <td>-0.383474</td>\n",
       "      <td>0.833081</td>\n",
       "      <td>0.579203</td>\n",
       "      <td>-0.462580</td>\n",
       "      <td>0.760569</td>\n",
       "      <td>0.842105</td>\n",
       "      <td>0</td>\n",
       "      <td>...</td>\n",
       "      <td>0.0</td>\n",
       "      <td>0.0</td>\n",
       "      <td>0.0</td>\n",
       "      <td>0.0</td>\n",
       "      <td>0.0</td>\n",
       "      <td>0.0</td>\n",
       "      <td>1.0</td>\n",
       "      <td>0.0</td>\n",
       "      <td>1.0</td>\n",
       "      <td>0.0</td>\n",
       "    </tr>\n",
       "    <tr>\n",
       "      <th>1</th>\n",
       "      <td>1.0</td>\n",
       "      <td>-0.780430</td>\n",
       "      <td>0.191417</td>\n",
       "      <td>-0.383474</td>\n",
       "      <td>-0.794111</td>\n",
       "      <td>1.072721</td>\n",
       "      <td>0.711910</td>\n",
       "      <td>-1.611265</td>\n",
       "      <td>-2.862384</td>\n",
       "      <td>1</td>\n",
       "      <td>...</td>\n",
       "      <td>0.0</td>\n",
       "      <td>0.0</td>\n",
       "      <td>0.0</td>\n",
       "      <td>1.0</td>\n",
       "      <td>0.0</td>\n",
       "      <td>0.0</td>\n",
       "      <td>0.0</td>\n",
       "      <td>0.0</td>\n",
       "      <td>1.0</td>\n",
       "      <td>0.0</td>\n",
       "    </tr>\n",
       "    <tr>\n",
       "      <th>2</th>\n",
       "      <td>2.0</td>\n",
       "      <td>-0.109756</td>\n",
       "      <td>0.191417</td>\n",
       "      <td>-0.383474</td>\n",
       "      <td>-1.249725</td>\n",
       "      <td>-1.221000</td>\n",
       "      <td>-1.253102</td>\n",
       "      <td>-1.350380</td>\n",
       "      <td>-0.988642</td>\n",
       "      <td>0</td>\n",
       "      <td>...</td>\n",
       "      <td>0.0</td>\n",
       "      <td>0.0</td>\n",
       "      <td>0.0</td>\n",
       "      <td>0.0</td>\n",
       "      <td>0.0</td>\n",
       "      <td>0.0</td>\n",
       "      <td>0.0</td>\n",
       "      <td>0.0</td>\n",
       "      <td>1.0</td>\n",
       "      <td>0.0</td>\n",
       "    </tr>\n",
       "    <tr>\n",
       "      <th>3</th>\n",
       "      <td>2.0</td>\n",
       "      <td>-0.780430</td>\n",
       "      <td>0.191417</td>\n",
       "      <td>-0.383474</td>\n",
       "      <td>0.833081</td>\n",
       "      <td>-0.253281</td>\n",
       "      <td>1.028119</td>\n",
       "      <td>0.765810</td>\n",
       "      <td>0.842105</td>\n",
       "      <td>1</td>\n",
       "      <td>...</td>\n",
       "      <td>1.0</td>\n",
       "      <td>0.0</td>\n",
       "      <td>0.0</td>\n",
       "      <td>0.0</td>\n",
       "      <td>0.0</td>\n",
       "      <td>0.0</td>\n",
       "      <td>0.0</td>\n",
       "      <td>0.0</td>\n",
       "      <td>1.0</td>\n",
       "      <td>0.0</td>\n",
       "    </tr>\n",
       "    <tr>\n",
       "      <th>4</th>\n",
       "      <td>3.0</td>\n",
       "      <td>0.404871</td>\n",
       "      <td>0.191417</td>\n",
       "      <td>-0.383474</td>\n",
       "      <td>0.833081</td>\n",
       "      <td>1.539896</td>\n",
       "      <td>-0.259303</td>\n",
       "      <td>0.760569</td>\n",
       "      <td>0.842105</td>\n",
       "      <td>0</td>\n",
       "      <td>...</td>\n",
       "      <td>1.0</td>\n",
       "      <td>0.0</td>\n",
       "      <td>0.0</td>\n",
       "      <td>0.0</td>\n",
       "      <td>0.0</td>\n",
       "      <td>0.0</td>\n",
       "      <td>0.0</td>\n",
       "      <td>0.0</td>\n",
       "      <td>1.0</td>\n",
       "      <td>0.0</td>\n",
       "    </tr>\n",
       "  </tbody>\n",
       "</table>\n",
       "<p>5 rows × 56 columns</p>\n",
       "</div>"
      ],
      "text/plain": [
       "   age  campaign     pdays  previous  emp_var_rate  cons_price_idx  \\\n",
       "0  5.0 -0.109756  0.191417 -0.383474      0.833081        0.579203   \n",
       "1  1.0 -0.780430  0.191417 -0.383474     -0.794111        1.072721   \n",
       "2  2.0 -0.109756  0.191417 -0.383474     -1.249725       -1.221000   \n",
       "3  2.0 -0.780430  0.191417 -0.383474      0.833081       -0.253281   \n",
       "4  3.0  0.404871  0.191417 -0.383474      0.833081        1.539896   \n",
       "\n",
       "   cons_conf_idx  euribor3m  nr_employed  contact  ...  x6_jul  x6_jun  \\\n",
       "0      -0.462580   0.760569     0.842105        0  ...     0.0     0.0   \n",
       "1       0.711910  -1.611265    -2.862384        1  ...     0.0     0.0   \n",
       "2      -1.253102  -1.350380    -0.988642        0  ...     0.0     0.0   \n",
       "3       1.028119   0.765810     0.842105        1  ...     1.0     0.0   \n",
       "4      -0.259303   0.760569     0.842105        0  ...     1.0     0.0   \n",
       "\n",
       "   x6_mar  x6_may  x6_nov  x6_oct  x6_sep  x7_failure  x7_nonexistent  \\\n",
       "0     0.0     0.0     0.0     0.0     1.0         0.0             1.0   \n",
       "1     0.0     1.0     0.0     0.0     0.0         0.0             1.0   \n",
       "2     0.0     0.0     0.0     0.0     0.0         0.0             1.0   \n",
       "3     0.0     0.0     0.0     0.0     0.0         0.0             1.0   \n",
       "4     0.0     0.0     0.0     0.0     0.0         0.0             1.0   \n",
       "\n",
       "   x7_success  \n",
       "0         0.0  \n",
       "1         0.0  \n",
       "2         0.0  \n",
       "3         0.0  \n",
       "4         0.0  \n",
       "\n",
       "[5 rows x 56 columns]"
      ]
     },
     "execution_count": 51,
     "metadata": {},
     "output_type": "execute_result"
    }
   ],
   "source": [
    "X_train.head()"
   ]
  },
  {
   "cell_type": "markdown",
   "metadata": {},
   "source": [
    "<h1><br/><br/>Feature Engineering<br/></h1>"
   ]
  },
  {
   "cell_type": "code",
   "execution_count": 52,
   "metadata": {},
   "outputs": [
    {
     "data": {
      "image/png": "[encoded data removed]",
      "text/plain": [
       "<Figure size 864x864 with 2 Axes>"
      ]
     },
     "metadata": {
      "needs_background": "light"
     },
     "output_type": "display_data"
    }
   ],
   "source": [
    "cols=['age', 'campaign', 'pdays', 'previous', 'emp_var_rate','cons_price_idx', 'cons_conf_idx', 'euribor3m', 'nr_employed']\n",
    "X_train_feature=X_train[cols]\n",
    "plt.figure(figsize=(12, 12))\n",
    "heatmap = sns.heatmap(X_train_feature.corr(), vmin=-1, vmax=1, annot=True)\n",
    "heatmap.set_title('Correlation Heatmap', fontdict={'fontsize':12}, pad=12);"
   ]
  },
  {
   "cell_type": "markdown",
   "metadata": {},
   "source": [
    "<h4>Here from the heatmap we can able to see that there is strong corelation between,</h4>\n",
    "<ul>\n",
    "    <li>nr_employed</li>\n",
    "    <li>euribor3m</li>\n",
    "    <li>cons_price_idx</li>\n",
    "    <li>emp_var_rate</li>\n",
    "</ul>\n",
    "<h4>So these can be identified as dependent fetures</h4>"
   ]
  },
  {
   "cell_type": "code",
   "execution_count": 53,
   "metadata": {},
   "outputs": [
    {
     "name": "stdout",
     "output_type": "stream",
     "text": [
      "                       y       age  campaign     pdays  previous  \\\n",
      "y               1.000000 -0.021222 -0.015588  0.005150 -0.007936   \n",
      "age            -0.021222  1.000000  0.030400 -0.006525 -0.006246   \n",
      "campaign       -0.015588  0.030400  1.000000  0.051883 -0.090374   \n",
      "pdays           0.005150 -0.006525  0.051883  1.000000 -0.553195   \n",
      "previous       -0.007936 -0.006246 -0.090374 -0.553195  1.000000   \n",
      "emp_var_rate   -0.005135  0.033530  0.163604  0.261384 -0.453113   \n",
      "cons_price_idx  0.005054  0.007758  0.126127  0.068611 -0.255788   \n",
      "cons_conf_idx  -0.003800  0.103437  0.004823 -0.068689 -0.107789   \n",
      "euribor3m      -0.007652  0.043787  0.147599  0.288525 -0.477438   \n",
      "nr_employed    -0.010085  0.030977  0.157392  0.360561 -0.502416   \n",
      "\n",
      "                emp_var_rate  cons_price_idx  cons_conf_idx  euribor3m  \\\n",
      "y                  -0.005135        0.005054      -0.003800  -0.007652   \n",
      "age                 0.033530        0.007758       0.103437   0.043787   \n",
      "campaign            0.163604        0.126127       0.004823   0.147599   \n",
      "pdays               0.261384        0.068611      -0.068689   0.288525   \n",
      "previous           -0.453113       -0.255788      -0.107789  -0.477438   \n",
      "emp_var_rate        1.000000        0.772311       0.275522   0.973442   \n",
      "cons_price_idx      0.772311        1.000000       0.124675   0.681306   \n",
      "cons_conf_idx       0.275522        0.124675       1.000000   0.341189   \n",
      "euribor3m           0.973442        0.681306       0.341189   1.000000   \n",
      "nr_employed         0.902801        0.504851       0.171298   0.945711   \n",
      "\n",
      "                nr_employed  \n",
      "y                 -0.010085  \n",
      "age                0.030977  \n",
      "campaign           0.157392  \n",
      "pdays              0.360561  \n",
      "previous          -0.502416  \n",
      "emp_var_rate       0.902801  \n",
      "cons_price_idx     0.504851  \n",
      "cons_conf_idx      0.171298  \n",
      "euribor3m          0.945711  \n",
      "nr_employed        1.000000  \n"
     ]
    },
    {
     "data": {
      "image/png": "[encoded data removed]",
      "text/plain": [
       "<Figure size 864x864 with 2 Axes>"
      ]
     },
     "metadata": {
      "needs_background": "light"
     },
     "output_type": "display_data"
    }
   ],
   "source": [
    "#test the signifncance of the continuous features\n",
    "d_data = pd.concat([y_train,X_train[cols]], axis=1, join=\"inner\")\n",
    "print(d_data.corr())\n",
    "plt.figure(figsize=(12, 12))\n",
    "heatmap = sns.heatmap(d_data.corr(), vmin=-1, vmax=1, annot=True)\n",
    "heatmap.set_title('Correlation Heatmap', fontdict={'fontsize':12}, pad=12);"
   ]
  },
  {
   "cell_type": "markdown",
   "metadata": {},
   "source": [
    "<h4>since emp_var_rate,cons_price_idx,euribor3m and nr_employed are dependent continous features we can keep the feature with highest corelation and drop the other 3<br/></h4>"
   ]
  },
  {
   "cell_type": "code",
   "execution_count": 54,
   "metadata": {},
   "outputs": [],
   "source": [
    "X_train = X_train.drop('emp_var_rate', 1)\n",
    "X_train = X_train.drop('cons_price_idx', 1)\n",
    "X_train = X_train.drop('euribor3m', 1)\n",
    "\n",
    "X_test = X_test.drop('emp_var_rate', 1)\n",
    "X_test = X_test.drop('cons_price_idx', 1)\n",
    "X_test = X_test.drop('euribor3m', 1)"
   ]
  },
  {
   "cell_type": "markdown",
   "metadata": {},
   "source": [
    "<h1><br/>Apply PCA<br/></h1>"
   ]
  },
  {
   "cell_type": "code",
   "execution_count": 55,
   "metadata": {},
   "outputs": [
    {
     "data": {
      "text/plain": [
       "array([1.95978614e-01, 1.72359985e-01, 8.99037335e-02, 8.13579958e-02,\n",
       "       4.92987880e-02, 4.42477337e-02, 4.03933135e-02, 3.45848999e-02,\n",
       "       3.03098566e-02, 2.46452646e-02, 2.15532266e-02, 2.07781212e-02,\n",
       "       1.98795222e-02, 1.91709554e-02, 1.60840331e-02, 1.40237428e-02,\n",
       "       1.20178696e-02, 1.13364034e-02, 1.11265032e-02, 8.93537386e-03,\n",
       "       8.70360388e-03, 7.82637307e-03, 7.25940291e-03, 6.62016139e-03,\n",
       "       5.97581936e-03, 5.53713780e-03, 5.08094143e-03, 4.92404814e-03,\n",
       "       4.23152156e-03, 3.78323641e-03, 3.30810523e-03, 3.06166977e-03,\n",
       "       2.77849247e-03, 2.36960046e-03, 2.28079928e-03, 2.11513232e-03,\n",
       "       1.92152293e-03, 1.60082830e-03, 1.13553534e-03, 6.91860183e-04,\n",
       "       5.83659385e-04, 1.85274779e-04, 3.14168943e-05, 7.92100950e-06,\n",
       "       3.86499667e-32, 1.92885331e-33, 1.92885331e-33, 1.92885331e-33,\n",
       "       1.92885331e-33, 1.92885331e-33, 1.92885331e-33, 1.92885331e-33,\n",
       "       1.92885331e-33])"
      ]
     },
     "execution_count": 55,
     "metadata": {},
     "output_type": "execute_result"
    }
   ],
   "source": [
    "from sklearn.decomposition import PCA\n",
    "\n",
    "# see explained variance ratios\n",
    "pca = PCA()\n",
    "pca.fit(X_train)\n",
    "pca.explained_variance_ratio_"
   ]
  },
  {
   "cell_type": "markdown",
   "metadata": {},
   "source": [
    "<h5>Select the eigenvector value greater than 95% and get the number of components</h5>"
   ]
  },
  {
   "cell_type": "code",
   "execution_count": 56,
   "metadata": {},
   "outputs": [
    {
     "name": "stdout",
     "output_type": "stream",
     "text": [
      "sum  0.9543712962995228\n",
      "25\n"
     ]
    }
   ],
   "source": [
    "arr = pca.explained_variance_ratio_\n",
    "\n",
    "sum = 0\n",
    "length = len(pca.explained_variance_ratio_)\n",
    "for i in range(length):\n",
    "    if sum>0.95:\n",
    "        break\n",
    "    else:\n",
    "        sum+=arr[i]\n",
    "n_com=i\n",
    "print('sum ',sum)\n",
    "print(n_com)"
   ]
  },
  {
   "cell_type": "markdown",
   "metadata": {},
   "source": [
    "<h5>Transform X_train and X_test after fitting the PCA into X_train parameters </h5>"
   ]
  },
  {
   "cell_type": "code",
   "execution_count": 57,
   "metadata": {},
   "outputs": [],
   "source": [
    "pca = PCA(n_components = n_com)\n",
    "pca.fit(X_train)\n",
    "X_train_pca = pca.transform(X_train)\n",
    "X_test_pca = pca.transform(X_test)\n"
   ]
  },
  {
   "cell_type": "markdown",
   "metadata": {},
   "source": [
    "<h4>SVM model fitted to X_train_pca</h4>"
   ]
  },
  {
   "cell_type": "code",
   "execution_count": 58,
   "metadata": {},
   "outputs": [],
   "source": [
    "#Import svm model\n",
    "from sklearn import svm\n",
    "\n",
    "svc = svm.SVC(kernel='rbf', C=1000,gamma=0.01).fit(X_train_pca, y_train)\n",
    "\n"
   ]
  },
  {
   "cell_type": "markdown",
   "metadata": {},
   "source": [
    "<h4>Get the Y-Prediction</h4>"
   ]
  },
  {
   "cell_type": "code",
   "execution_count": 59,
   "metadata": {},
   "outputs": [
    {
     "name": "stdout",
     "output_type": "stream",
     "text": [
      "[0 0 0 ... 0 0 0]\n"
     ]
    }
   ],
   "source": [
    "#Predict the response for test dataset\n",
    "y_pred = svc.predict(X_test_pca)\n",
    "print(y_pred)"
   ]
  },
  {
   "cell_type": "markdown",
   "metadata": {},
   "source": [
    "<h3>Evaluation</h3>"
   ]
  },
  {
   "cell_type": "markdown",
   "metadata": {},
   "source": [
    "<h4>Create Confustion Matrix</h4>"
   ]
  },
  {
   "cell_type": "code",
   "execution_count": 60,
   "metadata": {},
   "outputs": [
    {
     "data": {
      "text/plain": [
       "<Figure size 576x576 with 0 Axes>"
      ]
     },
     "metadata": {},
     "output_type": "display_data"
    },
    {
     "data": {
      "image/png": "[encoded data removed]",
      "text/plain": [
       "<Figure size 432x288 with 2 Axes>"
      ]
     },
     "metadata": {
      "needs_background": "light"
     },
     "output_type": "display_data"
    }
   ],
   "source": [
    "from sklearn.metrics import classification_report, confusion_matrix\n",
    "\n",
    "cm = confusion_matrix(y_test, y_pred)\n",
    "plt.figure(figsize = (8,8))\n",
    "fig, ax = plt.subplots(1)\n",
    "ax = sns.heatmap(cm, ax=ax, annot=True) #normalize='all'\n",
    "plt.title('Confusion matrix')\n",
    "plt.ylabel('True category')\n",
    "plt.xlabel('Predicted category')\n",
    "plt.show()"
   ]
  },
  {
   "cell_type": "markdown",
   "metadata": {},
   "source": [
    "<h5>Get Classification Report</h5>"
   ]
  },
  {
   "cell_type": "code",
   "execution_count": 61,
   "metadata": {},
   "outputs": [
    {
     "name": "stdout",
     "output_type": "stream",
     "text": [
      "              precision    recall  f1-score   support\n",
      "\n",
      "           0       0.92      0.91      0.92     10634\n",
      "           1       0.35      0.39      0.37      1323\n",
      "\n",
      "    accuracy                           0.85     11957\n",
      "   macro avg       0.64      0.65      0.64     11957\n",
      "weighted avg       0.86      0.85      0.86     11957\n",
      "\n"
     ]
    }
   ],
   "source": [
    "from sklearn.metrics import classification_report\n",
    "print(classification_report(y_test, y_pred))"
   ]
  },
  {
   "cell_type": "markdown",
   "metadata": {},
   "source": [
    "<h4>Accuracy and Precision</h4>"
   ]
  },
  {
   "cell_type": "code",
   "execution_count": 62,
   "metadata": {},
   "outputs": [
    {
     "name": "stdout",
     "output_type": "stream",
     "text": [
      "Precesion on evaluation set 0.3496932515337423\n",
      "Accuracy score 0.8524713556912269\n"
     ]
    }
   ],
   "source": [
    "from sklearn.metrics import precision_score, accuracy_score\n",
    "\n",
    "print('Precesion on evaluation set', precision_score(y_test, y_pred))\n",
    "print('Accuracy score', accuracy_score(y_test, y_pred))"
   ]
  },
  {
   "cell_type": "code",
   "execution_count": null,
   "metadata": {},
   "outputs": [],
   "source": []
  }
 ],
 "metadata": {
  "kernelspec": {
   "display_name": "Python 3",
   "language": "python",
   "name": "python3"
  },
  "language_info": {
   "codemirror_mode": {
    "name": "ipython",
    "version": 3
   },
   "file_extension": ".py",
   "mimetype": "text/x-python",
   "name": "python",
   "nbconvert_exporter": "python",
   "pygments_lexer": "ipython3",
   "version": "3.8.5"
  }
 },
 "nbformat": 4,
 "nbformat_minor": 4
}
